{
 "cells": [
  {
   "cell_type": "code",
   "execution_count": 1,
   "metadata": {},
   "outputs": [
    {
     "name": "stdout",
     "output_type": "stream",
     "text": [
      "<?xml version=\"1.0\" encoding=\"UTF-8\"?>\n",
      "<response success=\"true\">\n",
      "  <profiles num=\"10\" page=\"1\">\n",
      "    <profile id=\"5509211\">\n",
      "      <first_name/>\n",
      "      <last_name/>\n",
      "      <phone_number>17407073872</phone_number>\n",
      "      <email>m@w.com</email>\n",
      "      <status>Undeliverable</status>\n",
      "      <created_at>2009-01-22 01:23:04 UTC</created_at>\n",
      "      <updated_at>2009-12-21 09:03:06 UTC</updated_at>\n",
      "      <opted_out_at>2009-12-21 09:03:06 UTC</opted_out_at>\n",
      "      <opted_out_source>Phone was deactivated</opted_out_source>\n",
      "      <source type=\"Keyword\" name=\"obama\" id=\"21511\" opt_in_path_id=\"19161\" message_id=\"\"/>\n",
      "      <address>\n",
      "        <street1/>\n",
      "        <street2/>\n",
      "        <city>San Francisco</city>\n",
      "        <state>CA</state>\n",
      "        <postal_code>94110</postal_code>\n",
      "        <country>US</country>\n",
      "      </address>\n",
      "      <location>\n",
      "        <latitude>37.748932</latitude>\n",
      "        <longitude>-122.416281</longitude>\n",
      "        <precision>place</precision>\n",
      "        <city>San Francisco</city>\n",
      "        <state>CA</state>\n",
      "        <postal_code>94110</postal_code>\n",
      "        <country>US</country>\n",
      "      </location>\n",
      "      <districts>\n",
      "        <congressional_district>CA-12</congressional_district>\n",
      "        <state_upper_district>CA-</state_upper_district>\n",
      "        <state_lower_district>CA-</state_lower_district>\n",
      "        <split_district>No</split_district>\n",
      "      </districts>\n",
      "    </profile>\n",
      "    <profile id=\"5509361\">\n",
      "      <first_name>Heather</first_name>\n",
      "      <last_name>Buchheim</last_name>\n",
      "      <phone_number>16502073946</phone_number>\n",
      "      <email>watershed.heather@gmail.com</email>\n",
      "      <status>Active Subscriber</status>\n",
      "      <created_at>2009-01-22 01:39:46 UTC</created_at>\n",
      "      <updated_at>2013-02-19 20:52:19 UTC</updated_at>\n",
      "      <opted_out_at/>\n",
      "      <opted_out_source/>\n",
      "      <source type=\"Keyword\" name=\"obama\" id=\"21511\" opt_in_path_id=\"19161\" message_id=\"\"/>\n",
      "      <address>\n",
      "        <street1>100 Bush St. Ste. 850</street1>\n",
      "        <street2/>\n",
      "        <city>San Francisco</city>\n",
      "        <state>CA</state>\n",
      "        <postal_code>94104-3900</postal_code>\n",
      "        <country>US</country>\n",
      "      </address>\n",
      "      <location>\n",
      "        <latitude>37.791569</latitude>\n",
      "        <longitude>-122.399964</longitude>\n",
      "        <precision>rooftop</precision>\n",
      "        <city>San Francisco</city>\n",
      "        <state>CA</state>\n",
      "        <postal_code>94104</postal_code>\n",
      "        <country>US</country>\n",
      "      </location>\n",
      "      <districts>\n",
      "        <congressional_district>CA-12</congressional_district>\n",
      "        <state_upper_district>CA-11</state_upper_district>\n",
      "        <state_lower_district>CA-17</state_lower_district>\n",
      "        <split_district>No</split_district>\n",
      "      </districts>\n",
      "    </profile>\n",
      "    <profile id=\"5511571\">\n",
      "      <first_name/>\n",
      "      <last_name/>\n",
      "      <phone_number>15106846563</phone_number>\n",
      "      <email>stanionis@gmail.com</email>\n",
      "      <status>Undeliverable</status>\n",
      "      <created_at>2009-01-22 07:19:04 UTC</created_at>\n",
      "      <updated_at>2012-11-06 17:55:04 UTC</updated_at>\n",
      "      <opted_out_at>2012-11-06 17:55:04 UTC</opted_out_at>\n",
      "      <opted_out_source>Texted a STOP word</opted_out_source>\n",
      "      <source type=\"Keyword\" name=\"obama\" id=\"21511\" opt_in_path_id=\"19161\" message_id=\"\"/>\n",
      "      <address>\n",
      "        <street1/>\n",
      "        <street2/>\n",
      "        <city>Albany</city>\n",
      "        <state>CA</state>\n",
      "        <postal_code>94710</postal_code>\n",
      "        <country>US</country>\n",
      "      </address>\n",
      "      <location>\n",
      "        <latitude>37.873366</latitude>\n",
      "        <longitude>-122.30273</longitude>\n",
      "        <precision>place</precision>\n",
      "        <city>Berkeley</city>\n",
      "        <state>CA</state>\n",
      "        <postal_code>94710</postal_code>\n",
      "        <country>US</country>\n",
      "      </location>\n",
      "      <districts>\n",
      "        <congressional_district>CA-13</congressional_district>\n",
      "        <state_upper_district>CA-</state_upper_district>\n",
      "        <state_lower_district>CA-</state_lower_district>\n",
      "        <split_district>No</split_district>\n",
      "      </districts>\n",
      "    </profile>\n",
      "    <profile id=\"5511581\">\n",
      "      <first_name>Madeline</first_name>\n",
      "      <last_name>Stanionis</last_name>\n",
      "      <phone_number>14157861637</phone_number>\n",
      "      <email>madeline@watershedcompany.com</email>\n",
      "      <status>Active Subscriber</status>\n",
      "      <created_at>2009-01-22 07:26:18 UTC</created_at>\n",
      "      <updated_at>2013-02-19 20:47:38 UTC</updated_at>\n",
      "      <opted_out_at/>\n",
      "      <opted_out_source/>\n",
      "      <source type=\"Keyword\" name=\"obama\" id=\"21511\" opt_in_path_id=\"19161\" message_id=\"\"/>\n",
      "      <address>\n",
      "        <street1>1818 5th street</street1>\n",
      "        <street2/>\n",
      "        <city>berkeley</city>\n",
      "        <state>CA</state>\n",
      "        <postal_code>94710-1915</postal_code>\n",
      "        <country>US</country>\n",
      "      </address>\n",
      "      <location>\n",
      "        <latitude>37.869435</latitude>\n",
      "        <longitude>-122.299687</longitude>\n",
      "        <precision>rooftop</precision>\n",
      "        <city>Berkeley</city>\n",
      "        <state>CA</state>\n",
      "        <postal_code>94710</postal_code>\n",
      "        <country>US</country>\n",
      "      </location>\n",
      "      <districts>\n",
      "        <congressional_district>CA-13</congressional_district>\n",
      "        <state_upper_district>CA-9</state_upper_district>\n",
      "        <state_lower_district>CA-15</state_lower_district>\n",
      "        <split_district>No</split_district>\n",
      "      </districts>\n",
      "    </profile>\n",
      "    <profile id=\"5513311\">\n",
      "      <first_name/>\n",
      "      <last_name/>\n",
      "      <phone_number>14156994474</phone_number>\n",
      "      <email>matt@mcommons.com</email>\n",
      "      <status>Undeliverable</status>\n",
      "      <created_at>2009-01-22 17:47:11 UTC</created_at>\n",
      "      <updated_at>2010-01-28 09:02:39 UTC</updated_at>\n",
      "      <opted_out_at>2010-01-28 09:02:39 UTC</opted_out_at>\n",
      "      <opted_out_source>Phone was deactivated</opted_out_source>\n",
      "      <source type=\"Opt-In Path\" name=\"global gag rule\" id=\"19181\"/>\n",
      "      <address>\n",
      "        <street1/>\n",
      "        <street2/>\n",
      "        <city>San Francisco</city>\n",
      "        <state>CA</state>\n",
      "        <postal_code>94109</postal_code>\n",
      "        <country>US</country>\n",
      "      </address>\n",
      "      <location>\n",
      "        <latitude>37.795219</latitude>\n",
      "        <longitude>-122.420782</longitude>\n",
      "        <precision>place</precision>\n",
      "        <city>San Francisco</city>\n",
      "        <state>CA</state>\n",
      "        <postal_code>94109</postal_code>\n",
      "        <country>US</country>\n",
      "      </location>\n",
      "      <districts>\n",
      "        <congressional_district>CA-12</congressional_district>\n",
      "        <state_upper_district>CA-</state_upper_district>\n",
      "        <state_lower_district>CA-</state_lower_district>\n",
      "        <split_district>No</split_district>\n",
      "      </districts>\n",
      "    </profile>\n",
      "    <profile id=\"5514191\">\n",
      "      <first_name>Ellen</first_name>\n",
      "      <last_name>Freytag</last_name>\n",
      "      <phone_number>14155958458</phone_number>\n",
      "      <email>ellen.freytag@ppfa.org</email>\n",
      "      <status>Active Subscriber</status>\n",
      "      <created_at>2009-01-22 19:29:56 UTC</created_at>\n",
      "      <updated_at>2019-05-22 14:46:17 UTC</updated_at>\n",
      "      <opted_out_at/>\n",
      "      <opted_out_source/>\n",
      "      <source type=\"Opt-In Path\" name=\"global gag rule\" id=\"19181\"/>\n",
      "      <address>\n",
      "        <street1>1773 Lanier Pl NW Apt 19</street1>\n",
      "        <street2/>\n",
      "        <city>Washington</city>\n",
      "        <state>DC</state>\n",
      "        <postal_code>20009</postal_code>\n",
      "        <country>US</country>\n",
      "      </address>\n",
      "      <location>\n",
      "        <latitude>38.92452</latitude>\n",
      "        <longitude>-77.042632</longitude>\n",
      "        <precision>rooftop</precision>\n",
      "        <city>Washington</city>\n",
      "        <state>DC</state>\n",
      "        <postal_code>20009</postal_code>\n",
      "        <country>US</country>\n",
      "      </location>\n",
      "      <districts>\n",
      "        <congressional_district>DC-1</congressional_district>\n",
      "        <state_upper_district>DC-1</state_upper_district>\n",
      "        <state_lower_district>DC-</state_lower_district>\n",
      "        <split_district>No</split_district>\n",
      "      </districts>\n",
      "    </profile>\n",
      "    <profile id=\"5515111\">\n",
      "      <first_name>Amanda</first_name>\n",
      "      <last_name>Larkin</last_name>\n",
      "      <phone_number>14043139454</phone_number>\n",
      "      <email>frogger24@sub-par.com</email>\n",
      "      <status>Undeliverable</status>\n",
      "      <created_at>2009-01-22 20:33:12 UTC</created_at>\n",
      "      <updated_at>2013-02-19 20:51:24 UTC</updated_at>\n",
      "      <opted_out_at>2010-01-01 09:34:01 UTC</opted_out_at>\n",
      "      <opted_out_source>Phone was deactivated</opted_out_source>\n",
      "      <source type=\"Uploaded Group\" name=\"ws_globalgag_012209\" id=\"6891\"/>\n",
      "      <address>\n",
      "        <street1>1823 Winchester Trail</street1>\n",
      "        <street2/>\n",
      "        <city>Atlanta</city>\n",
      "        <state>GA</state>\n",
      "        <postal_code>30341-1447</postal_code>\n",
      "        <country>US</country>\n",
      "      </address>\n",
      "      <location>\n",
      "        <latitude>33.908162</latitude>\n",
      "        <longitude>-84.312857</longitude>\n",
      "        <precision>rooftop</precision>\n",
      "        <city>Atlanta</city>\n",
      "        <state>GA</state>\n",
      "        <postal_code>30341</postal_code>\n",
      "        <country>US</country>\n",
      "      </location>\n",
      "      <districts>\n",
      "        <congressional_district>GA-6</congressional_district>\n",
      "        <state_upper_district>GA-40</state_upper_district>\n",
      "        <state_lower_district>GA-80</state_lower_district>\n",
      "        <split_district>No</split_district>\n",
      "      </districts>\n",
      "    </profile>\n",
      "    <profile id=\"5515121\">\n",
      "      <first_name>Kelly</first_name>\n",
      "      <last_name>Bee</last_name>\n",
      "      <phone_number>12035307379</phone_number>\n",
      "      <email>kellybeehappy@hotmail.com</email>\n",
      "      <status>Active Subscriber</status>\n",
      "      <created_at>2009-01-22 20:33:12 UTC</created_at>\n",
      "      <updated_at>2013-02-19 20:50:37 UTC</updated_at>\n",
      "      <opted_out_at/>\n",
      "      <opted_out_source/>\n",
      "      <source type=\"Uploaded Group\" name=\"ws_globalgag_012209\" id=\"6891\"/>\n",
      "      <address>\n",
      "        <street1>20 Church Street</street1>\n",
      "        <street2/>\n",
      "        <city>North Branford</city>\n",
      "        <state>CT</state>\n",
      "        <postal_code>06471-1417</postal_code>\n",
      "        <country>US</country>\n",
      "      </address>\n",
      "      <location>\n",
      "        <latitude>41.328817</latitude>\n",
      "        <longitude>-72.767545</longitude>\n",
      "        <precision>rooftop</precision>\n",
      "        <city>North Branford</city>\n",
      "        <state>CT</state>\n",
      "        <postal_code>06471</postal_code>\n",
      "        <country>US</country>\n",
      "      </location>\n",
      "      <districts>\n",
      "        <congressional_district>CT-3</congressional_district>\n",
      "        <state_upper_district>CT-12</state_upper_district>\n",
      "        <state_lower_district>CT-86</state_lower_district>\n",
      "        <split_district>No</split_district>\n",
      "      </districts>\n",
      "    </profile>\n",
      "    <profile id=\"5515131\">\n",
      "      <first_name>Jennifer</first_name>\n",
      "      <last_name>Olenchek</last_name>\n",
      "      <phone_number>14146903494</phone_number>\n",
      "      <email>jennifer.olenchek@ppwi.org</email>\n",
      "      <status>Undeliverable</status>\n",
      "      <created_at>2009-01-22 20:33:12 UTC</created_at>\n",
      "      <updated_at>2018-12-14 19:37:29 UTC</updated_at>\n",
      "      <opted_out_at>2018-12-14 19:37:29 UTC</opted_out_at>\n",
      "      <opted_out_source>Texted a STOP word</opted_out_source>\n",
      "      <source type=\"Uploaded Group\" name=\"ws_globalgag_012209\" id=\"6891\"/>\n",
      "      <address>\n",
      "        <street1>4315 S Burrell St</street1>\n",
      "        <street2/>\n",
      "        <city>Milwaukee</city>\n",
      "        <state>WI</state>\n",
      "        <postal_code>53207-5021</postal_code>\n",
      "        <country>US</country>\n",
      "      </address>\n",
      "      <location>\n",
      "        <latitude>42.966202</latitude>\n",
      "        <longitude>-87.908555</longitude>\n",
      "        <precision>range_interpolation</precision>\n",
      "        <city>Milwaukee</city>\n",
      "        <state>WI</state>\n",
      "        <postal_code>53207</postal_code>\n",
      "        <country>US</country>\n",
      "      </location>\n",
      "      <districts>\n",
      "        <congressional_district>WI-4</congressional_district>\n",
      "        <state_upper_district>WI-7</state_upper_district>\n",
      "        <state_lower_district>WI-20</state_lower_district>\n",
      "        <split_district>No</split_district>\n",
      "      </districts>\n",
      "    </profile>\n",
      "    <profile id=\"5515141\">\n",
      "      <first_name>Ronald &amp; Patricia</first_name>\n",
      "      <last_name>Bern</last_name>\n",
      "      <phone_number>13522811333</phone_number>\n",
      "      <email>patbngracie@aol.com</email>\n",
      "      <status>Active Subscriber</status>\n",
      "      <created_at>2009-01-22 20:33:12 UTC</created_at>\n",
      "      <updated_at>2018-11-03 14:17:23 UTC</updated_at>\n",
      "      <opted_out_at/>\n",
      "      <opted_out_source/>\n",
      "      <source type=\"Uploaded Group\" name=\"ws_globalgag_012209\" id=\"6891\"/>\n",
      "      <address>\n",
      "        <street1>1301 NW 23rd Ter</street1>\n",
      "        <street2/>\n",
      "        <city>Gainesville</city>\n",
      "        <state>FL</state>\n",
      "        <postal_code>32605-5150</postal_code>\n",
      "        <country>US</country>\n",
      "      </address>\n",
      "      <location>\n",
      "        <latitude>29.663464</latitude>\n",
      "        <longitude>-82.357424</longitude>\n",
      "        <precision>rooftop</precision>\n",
      "        <city>Gainesville</city>\n",
      "        <state>FL</state>\n",
      "        <postal_code>32605</postal_code>\n",
      "        <country>US</country>\n",
      "      </location>\n",
      "      <districts>\n",
      "        <congressional_district>FL-3</congressional_district>\n",
      "        <state_upper_district>FL-8</state_upper_district>\n",
      "        <state_lower_district>FL-21</state_lower_district>\n",
      "        <split_district>No</split_district>\n",
      "      </districts>\n",
      "    </profile>\n",
      "  </profiles>\n",
      "</response>\n",
      "\n"
     ]
    }
   ],
   "source": [
    "import xmltodict\n",
    "import requests\n",
    "import civis\n",
    "import json\n",
    "import os\n",
    "from requests.auth import HTTPBasicAuth\n",
    "import pandas as pd\n",
    "import xml.etree.ElementTree as ET\n",
    "from pandas.io.json import json_normalize\n",
    "\n",
    "url = \"https://secure.mcommons.com/api/profiles\"\n",
    "user = \"anne.ramirez@ppfa.org\"\n",
    "pw = \"Dre$m0B0$t\"\n",
    "querystring = {\"include_custom_columns\":\"false\",\n",
    "               \"include_subscriptions\":\"false\",\n",
    "              \"include_clicks\":\"false\",\n",
    "              \"include_members\":\"false\",\n",
    "              \"limit\":\"10\"}\n",
    "\n",
    "payload = \"\"\n",
    "headers = {'Content-type' : 'application/json'}\n",
    "\n",
    "r = requests.request(\"GET\", url, auth = HTTPBasicAuth(user,pw), data=payload, headers=headers, params=querystring)\n",
    "print(r.text)"
   ]
  },
  {
   "cell_type": "code",
   "execution_count": 2,
   "metadata": {},
   "outputs": [
    {
     "name": "stdout",
     "output_type": "stream",
     "text": [
      "  response_@success response_profiles_@num response_profiles_@page  \\\n",
      "0              true                     10                       1   \n",
      "\n",
      "                           response_profiles_profile  \n",
      "0  [{'@id': '5509211', 'first_name': None, 'last_...  \n"
     ]
    }
   ],
   "source": [
    "data = xmltodict.parse(r.content)\n",
    "flat = json_normalize(data, sep='_')\n",
    "print(flat)"
   ]
  },
  {
   "cell_type": "code",
   "execution_count": 22,
   "metadata": {},
   "outputs": [
    {
     "name": "stdout",
     "output_type": "stream",
     "text": [
      "[<Element 'profiles' at 0x7fc6272c67c8>, <Element 'profile' at 0x7fc6272c6908>, <Element 'first_name' at 0x7fc6272c68b8>, <Element 'last_name' at 0x7fc6272c6868>, <Element 'phone_number' at 0x7fc6272c6818>, <Element 'email' at 0x7fc6272c6778>, <Element 'status' at 0x7fc6272c6728>, <Element 'created_at' at 0x7fc6272c66d8>, <Element 'updated_at' at 0x7fc6272c6688>, <Element 'opted_out_at' at 0x7fc6272c6638>, <Element 'opted_out_source' at 0x7fc6272c65e8>, <Element 'source' at 0x7fc6272c6598>, <Element 'address' at 0x7fc6272c6548>, <Element 'street1' at 0x7fc6272c64f8>, <Element 'street2' at 0x7fc6272c64a8>, <Element 'city' at 0x7fc6272c62c8>, <Element 'state' at 0x7fc6272c6408>, <Element 'postal_code' at 0x7fc6272c63b8>, <Element 'country' at 0x7fc6272c6368>, <Element 'location' at 0x7fc6272c6318>, <Element 'latitude' at 0x7fc6272c6048>, <Element 'longitude' at 0x7fc6272c6278>, <Element 'precision' at 0x7fc6272c6228>, <Element 'city' at 0x7fc6272c61d8>, <Element 'state' at 0x7fc6272c6188>, <Element 'postal_code' at 0x7fc6272c6138>, <Element 'country' at 0x7fc6272c60e8>, <Element 'districts' at 0x7fc6272c6098>, <Element 'congressional_district' at 0x7fc627312a98>, <Element 'state_upper_district' at 0x7fc627312b38>, <Element 'state_lower_district' at 0x7fc627312c28>, <Element 'split_district' at 0x7fc627312c78>, <Element 'profile' at 0x7fc627312cc8>, <Element 'first_name' at 0x7fc627312b88>, <Element 'last_name' at 0x7fc627312368>, <Element 'phone_number' at 0x7fc627312ae8>, <Element 'email' at 0x7fc627312908>, <Element 'status' at 0x7fc627312f98>, <Element 'created_at' at 0x7fc627312f48>, <Element 'updated_at' at 0x7fc627312ef8>, <Element 'opted_out_at' at 0x7fc627312ea8>, <Element 'opted_out_source' at 0x7fc627312e58>, <Element 'source' at 0x7fc627312e08>, <Element 'address' at 0x7fc627312db8>, <Element 'street1' at 0x7fc627312d18>, <Element 'street2' at 0x7fc6272ba598>, <Element 'city' at 0x7fc6272ba818>, <Element 'state' at 0x7fc6272ba728>, <Element 'postal_code' at 0x7fc6272ba778>, <Element 'country' at 0x7fc6272ba7c8>, <Element 'location' at 0x7fc6272baae8>, <Element 'latitude' at 0x7fc6272ba868>, <Element 'longitude' at 0x7fc6272ba8b8>, <Element 'precision' at 0x7fc6272ba908>, <Element 'city' at 0x7fc6272ba958>, <Element 'state' at 0x7fc6272ba9a8>, <Element 'postal_code' at 0x7fc6272ba9f8>, <Element 'country' at 0x7fc6272baa98>, <Element 'districts' at 0x7fc6272bad18>, <Element 'congressional_district' at 0x7fc6272bab38>, <Element 'state_upper_district' at 0x7fc6272bab88>, <Element 'state_lower_district' at 0x7fc6272babd8>, <Element 'split_district' at 0x7fc6272bac28>, <Element 'profile' at 0x7fc6272baa48>, <Element 'first_name' at 0x7fc6272bacc8>, <Element 'last_name' at 0x7fc6272bad68>, <Element 'phone_number' at 0x7fc6272badb8>, <Element 'email' at 0x7fc6272bae08>, <Element 'status' at 0x7fc6272bae58>, <Element 'created_at' at 0x7fc6272baea8>, <Element 'updated_at' at 0x7fc6272bac78>, <Element 'opted_out_at' at 0x7fc6272baf98>, <Element 'opted_out_source' at 0x7fc6272baf48>, <Element 'source' at 0x7fc6272baef8>, <Element 'address' at 0x7fc6272ba6d8>, <Element 'street1' at 0x7fc6272ba688>, <Element 'street2' at 0x7fc6272ba548>, <Element 'city' at 0x7fc6272ba408>, <Element 'state' at 0x7fc6272ba458>, <Element 'postal_code' at 0x7fc6272ba4a8>, <Element 'country' at 0x7fc6272d3958>, <Element 'location' at 0x7fc6272d39a8>, <Element 'latitude' at 0x7fc6272d3908>, <Element 'longitude' at 0x7fc6272d3098>, <Element 'precision' at 0x7fc6272d3318>, <Element 'city' at 0x7fc6272d30e8>, <Element 'state' at 0x7fc6272d3138>, <Element 'postal_code' at 0x7fc6272d3188>, <Element 'country' at 0x7fc6272d3048>, <Element 'districts' at 0x7fc6272d3228>, <Element 'congressional_district' at 0x7fc6272d3278>, <Element 'state_upper_district' at 0x7fc6272d32c8>, <Element 'state_lower_district' at 0x7fc6272d3598>, <Element 'split_district' at 0x7fc6272d3368>, <Element 'profile' at 0x7fc6272d33b8>, <Element 'first_name' at 0x7fc6272d3408>, <Element 'last_name' at 0x7fc6272d3458>, <Element 'phone_number' at 0x7fc6272d34a8>, <Element 'email' at 0x7fc6272d34f8>, <Element 'status' at 0x7fc6272d3638>, <Element 'created_at' at 0x7fc6272d3688>, <Element 'updated_at' at 0x7fc6272d36d8>, <Element 'opted_out_at' at 0x7fc6272d3728>, <Element 'opted_out_source' at 0x7fc6272d3548>, <Element 'source' at 0x7fc6272d37c8>, <Element 'address' at 0x7fc6272d3818>, <Element 'street1' at 0x7fc6272d3868>, <Element 'street2' at 0x7fc6272d38b8>, <Element 'city' at 0x7fc627317f48>, <Element 'state' at 0x7fc627317f98>, <Element 'postal_code' at 0x7fc6272d1048>, <Element 'country' at 0x7fc6272d1098>, <Element 'location' at 0x7fc6272d10e8>, <Element 'latitude' at 0x7fc6272d1138>, <Element 'longitude' at 0x7fc6272d1188>, <Element 'precision' at 0x7fc6272d11d8>, <Element 'city' at 0x7fc6272d1228>, <Element 'state' at 0x7fc6272d1278>, <Element 'postal_code' at 0x7fc6272d12c8>, <Element 'country' at 0x7fc6272d1318>, <Element 'districts' at 0x7fc6272d1368>, <Element 'congressional_district' at 0x7fc6272d13b8>, <Element 'state_upper_district' at 0x7fc6272d1408>, <Element 'state_lower_district' at 0x7fc6272d1458>, <Element 'split_district' at 0x7fc6272d14a8>, <Element 'profile' at 0x7fc6272d14f8>, <Element 'first_name' at 0x7fc6272d1548>, <Element 'last_name' at 0x7fc6272d1598>, <Element 'phone_number' at 0x7fc6272d15e8>, <Element 'email' at 0x7fc6272d1638>, <Element 'status' at 0x7fc6272d1688>, <Element 'created_at' at 0x7fc6272d16d8>, <Element 'updated_at' at 0x7fc6272d1728>, <Element 'opted_out_at' at 0x7fc6272d1778>, <Element 'opted_out_source' at 0x7fc6272d17c8>, <Element 'source' at 0x7fc6272d1818>, <Element 'address' at 0x7fc6272d1868>, <Element 'street1' at 0x7fc6272d18b8>, <Element 'street2' at 0x7fc6272d1908>, <Element 'city' at 0x7fc6272d1958>, <Element 'state' at 0x7fc6272d19a8>, <Element 'postal_code' at 0x7fc6272d19f8>, <Element 'country' at 0x7fc6272d1a48>, <Element 'location' at 0x7fc6272d1a98>, <Element 'latitude' at 0x7fc6272d1ae8>, <Element 'longitude' at 0x7fc6272d1b38>, <Element 'precision' at 0x7fc6272d1b88>, <Element 'city' at 0x7fc6272d1bd8>, <Element 'state' at 0x7fc6272d1c28>, <Element 'postal_code' at 0x7fc6272d1c78>, <Element 'country' at 0x7fc6272d1cc8>, <Element 'districts' at 0x7fc6272d1d18>, <Element 'congressional_district' at 0x7fc6272d1d68>, <Element 'state_upper_district' at 0x7fc6272d1db8>, <Element 'state_lower_district' at 0x7fc6272d1e08>, <Element 'split_district' at 0x7fc6272d1e58>, <Element 'profile' at 0x7fc6272d1ea8>, <Element 'first_name' at 0x7fc6272d1ef8>, <Element 'last_name' at 0x7fc6272d1f48>, <Element 'phone_number' at 0x7fc6272d1f98>, <Element 'email' at 0x7fc6272c4048>, <Element 'status' at 0x7fc6272c4098>, <Element 'created_at' at 0x7fc6272c40e8>, <Element 'updated_at' at 0x7fc6272c4138>, <Element 'opted_out_at' at 0x7fc6272c4188>, <Element 'opted_out_source' at 0x7fc6272c41d8>, <Element 'source' at 0x7fc6272c4228>, <Element 'address' at 0x7fc6272c4278>, <Element 'street1' at 0x7fc6272c42c8>, <Element 'street2' at 0x7fc6272c4368>, <Element 'city' at 0x7fc6272c43b8>, <Element 'state' at 0x7fc6272c4408>, <Element 'postal_code' at 0x7fc6272c4458>, <Element 'country' at 0x7fc6272c44a8>, <Element 'location' at 0x7fc6272c44f8>, <Element 'latitude' at 0x7fc6272c4548>, <Element 'longitude' at 0x7fc6272c4598>, <Element 'precision' at 0x7fc6272c45e8>, <Element 'city' at 0x7fc6272c4638>, <Element 'state' at 0x7fc6272c4688>, <Element 'postal_code' at 0x7fc6272c46d8>, <Element 'country' at 0x7fc6272c4728>, <Element 'districts' at 0x7fc6272c4778>, <Element 'congressional_district' at 0x7fc6272c47c8>, <Element 'state_upper_district' at 0x7fc6272c4818>, <Element 'state_lower_district' at 0x7fc6272c4868>, <Element 'split_district' at 0x7fc6272c48b8>, <Element 'profile' at 0x7fc6272c4908>, <Element 'first_name' at 0x7fc6272c4958>, <Element 'last_name' at 0x7fc6272c49a8>, <Element 'phone_number' at 0x7fc6272c49f8>, <Element 'email' at 0x7fc6272c4a48>, <Element 'status' at 0x7fc6272c4a98>, <Element 'created_at' at 0x7fc6272c4ae8>, <Element 'updated_at' at 0x7fc6272c4b38>, <Element 'opted_out_at' at 0x7fc6272c4b88>, <Element 'opted_out_source' at 0x7fc6272c4bd8>, <Element 'source' at 0x7fc6272c4c28>, <Element 'address' at 0x7fc6272c4c78>, <Element 'street1' at 0x7fc6272c4cc8>, <Element 'street2' at 0x7fc6272c4d18>, <Element 'city' at 0x7fc6272c4d68>, <Element 'state' at 0x7fc6272c4db8>, <Element 'postal_code' at 0x7fc6272c4e08>, <Element 'country' at 0x7fc6272c4e58>, <Element 'location' at 0x7fc6272c4ea8>, <Element 'latitude' at 0x7fc6272c4ef8>, <Element 'longitude' at 0x7fc6272c4f48>, <Element 'precision' at 0x7fc6272c4f98>, <Element 'city' at 0x7fc6272cc048>, <Element 'state' at 0x7fc6272cc098>, <Element 'postal_code' at 0x7fc6272cc0e8>, <Element 'country' at 0x7fc6272cc138>, <Element 'districts' at 0x7fc6272cc188>, <Element 'congressional_district' at 0x7fc6272cc1d8>, <Element 'state_upper_district' at 0x7fc6272cc228>, <Element 'state_lower_district' at 0x7fc6272cc278>, <Element 'split_district' at 0x7fc6272cc2c8>, <Element 'profile' at 0x7fc6272cc318>, <Element 'first_name' at 0x7fc6272cc368>, <Element 'last_name' at 0x7fc6272cc3b8>, <Element 'phone_number' at 0x7fc6272cc408>, <Element 'email' at 0x7fc6272cc458>, <Element 'status' at 0x7fc6272cc4f8>, <Element 'created_at' at 0x7fc6272cc548>, <Element 'updated_at' at 0x7fc6272cc598>, <Element 'opted_out_at' at 0x7fc6272cc5e8>, <Element 'opted_out_source' at 0x7fc6272cc638>, <Element 'source' at 0x7fc6272cc688>, <Element 'address' at 0x7fc6272cc6d8>, <Element 'street1' at 0x7fc6272cc728>, <Element 'street2' at 0x7fc6272cc778>, <Element 'city' at 0x7fc6272cc7c8>, <Element 'state' at 0x7fc6272cc818>, <Element 'postal_code' at 0x7fc6272cc868>, <Element 'country' at 0x7fc6272cc8b8>, <Element 'location' at 0x7fc6272cc908>, <Element 'latitude' at 0x7fc6272cc958>, <Element 'longitude' at 0x7fc6272cc9a8>, <Element 'precision' at 0x7fc6272cc9f8>, <Element 'city' at 0x7fc6272cca48>, <Element 'state' at 0x7fc6272cca98>, <Element 'postal_code' at 0x7fc6272ccae8>, <Element 'country' at 0x7fc6272ccb38>, <Element 'districts' at 0x7fc6272ccb88>, <Element 'congressional_district' at 0x7fc6272ccbd8>, <Element 'state_upper_district' at 0x7fc6272ccc28>, <Element 'state_lower_district' at 0x7fc6272ccc78>, <Element 'split_district' at 0x7fc6272cccc8>, <Element 'profile' at 0x7fc6272ccd18>, <Element 'first_name' at 0x7fc6272ccd68>, <Element 'last_name' at 0x7fc6272ccdb8>, <Element 'phone_number' at 0x7fc6272cce08>, <Element 'email' at 0x7fc6272cce58>, <Element 'status' at 0x7fc6272ccef8>, <Element 'created_at' at 0x7fc6272ccf48>, <Element 'updated_at' at 0x7fc6272ccf98>, <Element 'opted_out_at' at 0x7fc6272c8778>, <Element 'opted_out_source' at 0x7fc6272c8d68>, <Element 'source' at 0x7fc6272c8f98>, <Element 'address' at 0x7fc6272c8f48>, <Element 'street1' at 0x7fc6272c8ef8>, <Element 'street2' at 0x7fc6272c8ea8>, <Element 'city' at 0x7fc6272c8e58>, <Element 'state' at 0x7fc6272c8e08>, <Element 'postal_code' at 0x7fc6272c8db8>, <Element 'country' at 0x7fc6272c8b38>, <Element 'location' at 0x7fc6272c8d18>, <Element 'latitude' at 0x7fc6272c8cc8>, <Element 'longitude' at 0x7fc6272c8c78>, <Element 'precision' at 0x7fc6272c8c28>, <Element 'city' at 0x7fc6272c8bd8>, <Element 'state' at 0x7fc6272c8b88>, <Element 'postal_code' at 0x7fc6272c8ae8>, <Element 'country' at 0x7fc6272c8a98>, <Element 'districts' at 0x7fc6272c8a48>, <Element 'congressional_district' at 0x7fc6272c89f8>, <Element 'state_upper_district' at 0x7fc6272c89a8>, <Element 'state_lower_district' at 0x7fc6272c8958>, <Element 'split_district' at 0x7fc6272c88b8>, <Element 'profile' at 0x7fc6272c8908>, <Element 'first_name' at 0x7fc6272c8868>, <Element 'last_name' at 0x7fc6272c8818>, <Element 'phone_number' at 0x7fc6272c87c8>, <Element 'email' at 0x7fc6272c85e8>, <Element 'status' at 0x7fc6272c8728>, <Element 'created_at' at 0x7fc6272c86d8>, <Element 'updated_at' at 0x7fc6272c8688>, <Element 'opted_out_at' at 0x7fc6272c8638>, <Element 'opted_out_source' at 0x7fc6272c8368>, <Element 'source' at 0x7fc6272c8598>, <Element 'address' at 0x7fc6272c8548>, <Element 'street1' at 0x7fc6272c84f8>, <Element 'street2' at 0x7fc6272c84a8>, <Element 'city' at 0x7fc6272c8458>, <Element 'state' at 0x7fc6272c8408>, <Element 'postal_code' at 0x7fc6272c83b8>, <Element 'country' at 0x7fc6272c8138>, <Element 'location' at 0x7fc6272c8318>, <Element 'latitude' at 0x7fc6272c82c8>, <Element 'longitude' at 0x7fc6272c8278>, <Element 'precision' at 0x7fc6272c8228>, <Element 'city' at 0x7fc6272c81d8>, <Element 'state' at 0x7fc6272c8188>, <Element 'postal_code' at 0x7fc6272c80e8>, <Element 'country' at 0x7fc6272c8098>, <Element 'districts' at 0x7fc6272c8048>, <Element 'congressional_district' at 0x7fc6272d9048>, <Element 'state_upper_district' at 0x7fc6272d9098>, <Element 'state_lower_district' at 0x7fc6272d90e8>, <Element 'split_district' at 0x7fc6272d9138>]\n"
     ]
    }
   ],
   "source": [
    "tree = ET.fromstring(r.text)\n",
    "a = tree.findall('.//')\n",
    "print(a)"
   ]
  },
  {
   "cell_type": "code",
   "execution_count": 33,
   "metadata": {},
   "outputs": [
    {
     "name": "stdout",
     "output_type": "stream",
     "text": [
      "[<Element 'profile' at 0x7fc62722cef8>, <Element 'first_name' at 0x7fc62722c598>, <Element 'last_name' at 0x7fc62722cd68>, <Element 'phone_number' at 0x7fc62722cea8>, <Element 'email' at 0x7fc62722ce58>, <Element 'status' at 0x7fc62722ce08>, <Element 'created_at' at 0x7fc62722cdb8>, <Element 'updated_at' at 0x7fc62722cae8>, <Element 'opted_out_at' at 0x7fc62722cd18>, <Element 'opted_out_source' at 0x7fc62722cf98>, <Element 'source' at 0x7fc62722cc78>, <Element 'address' at 0x7fc62722cc28>, <Element 'street1' at 0x7fc62722cbd8>, <Element 'street2' at 0x7fc62722c9f8>, <Element 'city' at 0x7fc62722ccc8>, <Element 'state' at 0x7fc62722c868>, <Element 'postal_code' at 0x7fc62722ca98>, <Element 'country' at 0x7fc62722ca48>, <Element 'location' at 0x7fc62722c9a8>, <Element 'latitude' at 0x7fc62722c778>, <Element 'longitude' at 0x7fc62722c958>, <Element 'precision' at 0x7fc62722c8b8>, <Element 'city' at 0x7fc62722c908>, <Element 'state' at 0x7fc62722c818>, <Element 'postal_code' at 0x7fc62722c7c8>, <Element 'country' at 0x7fc62722c6d8>, <Element 'districts' at 0x7fc62722c688>, <Element 'congressional_district' at 0x7fc62722c638>, <Element 'state_upper_district' at 0x7fc62722c728>, <Element 'state_lower_district' at 0x7fc62722cb38>, <Element 'split_district' at 0x7fc62729dc28>, <Element 'profile' at 0x7fc62729da98>, <Element 'first_name' at 0x7fc62729d9a8>, <Element 'last_name' at 0x7fc62729d9f8>, <Element 'phone_number' at 0x7fc62729da48>, <Element 'email' at 0x7fc62729dae8>, <Element 'status' at 0x7fc62729db88>, <Element 'created_at' at 0x7fc62729dbd8>, <Element 'updated_at' at 0x7fc62729dcc8>, <Element 'opted_out_at' at 0x7fc62729dc78>, <Element 'opted_out_source' at 0x7fc62729dd68>, <Element 'source' at 0x7fc62729dd18>, <Element 'address' at 0x7fc62729ddb8>, <Element 'street1' at 0x7fc62729de08>, <Element 'street2' at 0x7fc62729de58>, <Element 'city' at 0x7fc62729d818>, <Element 'state' at 0x7fc62729def8>, <Element 'postal_code' at 0x7fc62729df48>, <Element 'country' at 0x7fc62729df98>, <Element 'location' at 0x7fc62729dea8>, <Element 'latitude' at 0x7fc62729d598>, <Element 'longitude' at 0x7fc62729d868>, <Element 'precision' at 0x7fc62729d8b8>, <Element 'city' at 0x7fc62729d7c8>, <Element 'state' at 0x7fc62729d778>, <Element 'postal_code' at 0x7fc6272c8728>, <Element 'country' at 0x7fc6272c8818>, <Element 'districts' at 0x7fc6272c86d8>, <Element 'congressional_district' at 0x7fc6272c80e8>, <Element 'state_upper_district' at 0x7fc6272c8048>, <Element 'state_lower_district' at 0x7fc6272c8098>, <Element 'split_district' at 0x7fc6272c8368>, <Element 'profile' at 0x7fc6272c8138>, <Element 'first_name' at 0x7fc6272c81d8>, <Element 'last_name' at 0x7fc6272c8228>, <Element 'phone_number' at 0x7fc6272c8278>, <Element 'email' at 0x7fc6272c82c8>, <Element 'status' at 0x7fc6272c8318>, <Element 'created_at' at 0x7fc6272c83b8>, <Element 'updated_at' at 0x7fc6272c8408>, <Element 'opted_out_at' at 0x7fc6272c8458>, <Element 'opted_out_source' at 0x7fc6272c84a8>, <Element 'source' at 0x7fc6272c8548>, <Element 'address' at 0x7fc6272c8598>, <Element 'street1' at 0x7fc6272c85e8>, <Element 'street2' at 0x7fc6272c8638>, <Element 'city' at 0x7fc6272c8688>, <Element 'state' at 0x7fc6272c8778>, <Element 'postal_code' at 0x7fc62728eef8>, <Element 'country' at 0x7fc62728ef48>, <Element 'location' at 0x7fc62728e548>, <Element 'latitude' at 0x7fc62728ed68>, <Element 'longitude' at 0x7fc62728eea8>, <Element 'precision' at 0x7fc62728ee58>, <Element 'city' at 0x7fc62728ee08>, <Element 'state' at 0x7fc62728edb8>, <Element 'postal_code' at 0x7fc62728eae8>, <Element 'country' at 0x7fc62728ed18>, <Element 'districts' at 0x7fc62728ecc8>, <Element 'congressional_district' at 0x7fc62728ec78>, <Element 'state_upper_district' at 0x7fc62728ec28>, <Element 'state_lower_district' at 0x7fc62728ebd8>, <Element 'split_district' at 0x7fc62728eb88>, <Element 'profile' at 0x7fc62728eb38>, <Element 'first_name' at 0x7fc62728e8b8>, <Element 'last_name' at 0x7fc62728ea98>, <Element 'phone_number' at 0x7fc62728ea48>, <Element 'email' at 0x7fc62728e9f8>, <Element 'status' at 0x7fc62728e958>, <Element 'created_at' at 0x7fc62728e908>, <Element 'updated_at' at 0x7fc62728e868>, <Element 'opted_out_at' at 0x7fc62728e818>, <Element 'opted_out_source' at 0x7fc62728e7c8>, <Element 'source' at 0x7fc62728e778>, <Element 'address' at 0x7fc62728e728>, <Element 'street1' at 0x7fc62728e6d8>, <Element 'street2' at 0x7fc62728e688>, <Element 'city' at 0x7fc62728e638>, <Element 'state' at 0x7fc62728e5e8>, <Element 'postal_code' at 0x7fc62728e598>, <Element 'country' at 0x7fc62728e3b8>, <Element 'location' at 0x7fc62728e4f8>, <Element 'latitude' at 0x7fc62728e4a8>, <Element 'longitude' at 0x7fc62728e458>, <Element 'precision' at 0x7fc62728e408>, <Element 'city' at 0x7fc62728e138>, <Element 'state' at 0x7fc62728e368>, <Element 'postal_code' at 0x7fc62728e318>, <Element 'country' at 0x7fc62728e2c8>, <Element 'districts' at 0x7fc62728e278>, <Element 'congressional_district' at 0x7fc62728e228>, <Element 'state_upper_district' at 0x7fc62728e1d8>, <Element 'state_lower_district' at 0x7fc62728e188>, <Element 'split_district' at 0x7fc62728e0e8>, <Element 'profile' at 0x7fc62728e098>, <Element 'first_name' at 0x7fc62728e048>, <Element 'last_name' at 0x7fc627273818>, <Element 'phone_number' at 0x7fc6272739a8>, <Element 'email' at 0x7fc627273a48>, <Element 'status' at 0x7fc627273db8>, <Element 'created_at' at 0x7fc627273f98>, <Element 'updated_at' at 0x7fc627273f48>, <Element 'opted_out_at' at 0x7fc627273ef8>, <Element 'opted_out_source' at 0x7fc627273ea8>, <Element 'source' at 0x7fc627273e58>, <Element 'address' at 0x7fc627273e08>, <Element 'street1' at 0x7fc627273d68>, <Element 'street2' at 0x7fc627273d18>, <Element 'city' at 0x7fc627273cc8>, <Element 'state' at 0x7fc627273c78>, <Element 'postal_code' at 0x7fc627273c28>, <Element 'country' at 0x7fc627273bd8>, <Element 'location' at 0x7fc627273b88>, <Element 'latitude' at 0x7fc627273b38>, <Element 'longitude' at 0x7fc627273ae8>, <Element 'precision' at 0x7fc627273a98>, <Element 'city' at 0x7fc627273688>, <Element 'state' at 0x7fc6272737c8>, <Element 'postal_code' at 0x7fc627273778>, <Element 'country' at 0x7fc627273728>, <Element 'districts' at 0x7fc6272736d8>, <Element 'congressional_district' at 0x7fc627273408>, <Element 'state_upper_district' at 0x7fc627273638>, <Element 'state_lower_district' at 0x7fc6272735e8>, <Element 'split_district' at 0x7fc627273598>, <Element 'profile' at 0x7fc627273548>, <Element 'first_name' at 0x7fc6272734f8>, <Element 'last_name' at 0x7fc6272734a8>, <Element 'phone_number' at 0x7fc627273458>, <Element 'email' at 0x7fc6272731d8>, <Element 'status' at 0x7fc6272733b8>, <Element 'created_at' at 0x7fc627273368>, <Element 'updated_at' at 0x7fc627273318>, <Element 'opted_out_at' at 0x7fc6272732c8>, <Element 'opted_out_source' at 0x7fc627273278>, <Element 'source' at 0x7fc627273228>, <Element 'address' at 0x7fc627273188>, <Element 'street1' at 0x7fc627273138>, <Element 'street2' at 0x7fc627273098>, <Element 'city' at 0x7fc627273048>, <Element 'state' at 0x7fc6272d9318>, <Element 'postal_code' at 0x7fc6272d9d18>, <Element 'country' at 0x7fc6272d9f98>, <Element 'location' at 0x7fc6272d9f48>, <Element 'latitude' at 0x7fc6272d9ef8>, <Element 'longitude' at 0x7fc6272d9e58>, <Element 'precision' at 0x7fc6272d9ea8>, <Element 'city' at 0x7fc6272d9e08>, <Element 'state' at 0x7fc6272d9db8>, <Element 'postal_code' at 0x7fc6272d9d68>, <Element 'country' at 0x7fc6272d9368>, <Element 'districts' at 0x7fc6272d9b88>, <Element 'congressional_district' at 0x7fc6272d9cc8>, <Element 'state_upper_district' at 0x7fc6272d9c78>, <Element 'state_lower_district' at 0x7fc6272d9c28>, <Element 'split_district' at 0x7fc6272d9bd8>, <Element 'profile' at 0x7fc6272d9908>, <Element 'first_name' at 0x7fc6272d9b38>, <Element 'last_name' at 0x7fc6272d9ae8>, <Element 'phone_number' at 0x7fc6272d9a98>, <Element 'email' at 0x7fc6272d9a48>, <Element 'status' at 0x7fc6272d99f8>, <Element 'created_at' at 0x7fc6272d99a8>, <Element 'updated_at' at 0x7fc6272d9958>, <Element 'opted_out_at' at 0x7fc6272d96d8>, <Element 'opted_out_source' at 0x7fc6272d98b8>, <Element 'source' at 0x7fc6272d9868>, <Element 'address' at 0x7fc6272d9818>, <Element 'street1' at 0x7fc6272d97c8>, <Element 'street2' at 0x7fc6272d9778>, <Element 'city' at 0x7fc6272d9728>, <Element 'state' at 0x7fc6272d9688>, <Element 'postal_code' at 0x7fc6272d9638>, <Element 'country' at 0x7fc6272d95e8>, <Element 'location' at 0x7fc6272d9598>, <Element 'latitude' at 0x7fc6272d9548>, <Element 'longitude' at 0x7fc6272d94f8>, <Element 'precision' at 0x7fc6272d94a8>, <Element 'city' at 0x7fc6272d9458>, <Element 'state' at 0x7fc6272d9408>, <Element 'postal_code' at 0x7fc6272d93b8>, <Element 'country' at 0x7fc627317598>, <Element 'districts' at 0x7fc627317db8>, <Element 'congressional_district' at 0x7fc627317ef8>, <Element 'state_upper_district' at 0x7fc627317ea8>, <Element 'state_lower_district' at 0x7fc627317e58>, <Element 'split_district' at 0x7fc627317e08>, <Element 'profile' at 0x7fc627317b38>, <Element 'first_name' at 0x7fc627317d68>, <Element 'last_name' at 0x7fc627317d18>, <Element 'phone_number' at 0x7fc627317cc8>, <Element 'email' at 0x7fc627317c78>, <Element 'status' at 0x7fc627317bd8>, <Element 'created_at' at 0x7fc627317b88>, <Element 'updated_at' at 0x7fc627317908>, <Element 'opted_out_at' at 0x7fc627317ae8>, <Element 'opted_out_source' at 0x7fc627317a98>, <Element 'source' at 0x7fc627317a48>, <Element 'address' at 0x7fc6273179f8>, <Element 'street1' at 0x7fc6273179a8>, <Element 'street2' at 0x7fc627317958>, <Element 'city' at 0x7fc6273178b8>, <Element 'state' at 0x7fc627317868>, <Element 'postal_code' at 0x7fc627317818>, <Element 'country' at 0x7fc6273177c8>, <Element 'location' at 0x7fc627317778>, <Element 'latitude' at 0x7fc627317728>, <Element 'longitude' at 0x7fc6273176d8>, <Element 'precision' at 0x7fc627317688>, <Element 'city' at 0x7fc627317638>, <Element 'state' at 0x7fc6273175e8>, <Element 'postal_code' at 0x7fc627317408>, <Element 'country' at 0x7fc627317548>, <Element 'districts' at 0x7fc6273174f8>, <Element 'congressional_district' at 0x7fc6273174a8>, <Element 'state_upper_district' at 0x7fc627317458>, <Element 'state_lower_district' at 0x7fc627317188>, <Element 'split_district' at 0x7fc6273173b8>, <Element 'profile' at 0x7fc627317368>, <Element 'first_name' at 0x7fc627317318>, <Element 'last_name' at 0x7fc6273172c8>, <Element 'phone_number' at 0x7fc627317278>, <Element 'email' at 0x7fc627317228>, <Element 'status' at 0x7fc627317138>, <Element 'created_at' at 0x7fc6273170e8>, <Element 'updated_at' at 0x7fc627317098>, <Element 'opted_out_at' at 0x7fc627317048>, <Element 'opted_out_source' at 0x7fc6272c6868>, <Element 'source' at 0x7fc6272c6d18>, <Element 'address' at 0x7fc6272c63b8>, <Element 'street1' at 0x7fc6272c6818>, <Element 'street2' at 0x7fc6272c6638>, <Element 'city' at 0x7fc6272c6778>, <Element 'state' at 0x7fc6272c6728>, <Element 'postal_code' at 0x7fc6272c66d8>, <Element 'country' at 0x7fc6272c6688>, <Element 'location' at 0x7fc6272c6368>, <Element 'latitude' at 0x7fc6272c65e8>, <Element 'longitude' at 0x7fc6272c68b8>, <Element 'precision' at 0x7fc6272c6598>, <Element 'city' at 0x7fc6272c64a8>, <Element 'state' at 0x7fc6272c62c8>, <Element 'postal_code' at 0x7fc6272c6408>, <Element 'country' at 0x7fc6272c64f8>, <Element 'districts' at 0x7fc6272c6138>, <Element 'congressional_district' at 0x7fc6272c6548>, <Element 'state_upper_district' at 0x7fc6272c6048>, <Element 'state_lower_district' at 0x7fc6272c6278>, <Element 'split_district' at 0x7fc6272c67c8>, <Element 'profile' at 0x7fc6272c61d8>, <Element 'first_name' at 0x7fc6272c6188>, <Element 'last_name' at 0x7fc6272c60e8>, <Element 'phone_number' at 0x7fc6272c6318>, <Element 'email' at 0x7fc6272c6908>, <Element 'status' at 0x7fc6272c6a48>, <Element 'created_at' at 0x7fc6272c6458>, <Element 'updated_at' at 0x7fc6272c6b88>, <Element 'opted_out_at' at 0x7fc6272c6098>, <Element 'opted_out_source' at 0x7fc6272c6228>, <Element 'source' at 0x7fc6272c69f8>, <Element 'address' at 0x7fc6272c6c78>, <Element 'street1' at 0x7fc6272c6b38>, <Element 'street2' at 0x7fc6272c6d68>, <Element 'city' at 0x7fc6272c6cc8>, <Element 'state' at 0x7fc6272c6f48>, <Element 'postal_code' at 0x7fc6272c6f98>, <Element 'country' at 0x7fc6272c6ef8>, <Element 'location' at 0x7fc6272c6ea8>, <Element 'latitude' at 0x7fc6272c6e58>, <Element 'longitude' at 0x7fc6272c6e08>, <Element 'precision' at 0x7fc6272babd8>, <Element 'city' at 0x7fc6272ba728>, <Element 'state' at 0x7fc6272ba688>, <Element 'postal_code' at 0x7fc6272ba598>, <Element 'country' at 0x7fc6272ba818>, <Element 'districts' at 0x7fc6272ba9a8>, <Element 'congressional_district' at 0x7fc6272ba778>, <Element 'state_upper_district' at 0x7fc6272ba7c8>, <Element 'state_lower_district' at 0x7fc6272ba868>, <Element 'split_district' at 0x7fc6272ba8b8>]\n"
     ]
    }
   ],
   "source": [
    "tree = ET.fromstring(r.text)\n",
    "a = tree.findall('profiles//')\n",
    "print(a)"
   ]
  },
  {
   "cell_type": "code",
   "execution_count": null,
   "metadata": {},
   "outputs": [],
   "source": [
    "tree = ET.fromstring(r.text)\n",
    "a = tree.findall('profiles//')\n",
    "\n",
    "data = xmltodict.parse(r.content)\n",
    "flat = json_normalize(data, sep='_')\n",
    "print(flat)"
   ]
  },
  {
   "cell_type": "code",
   "execution_count": 40,
   "metadata": {},
   "outputs": [
    {
     "ename": "ModuleNotFoundError",
     "evalue": "No module named 'xml.etree.Element'",
     "output_type": "error",
     "traceback": [
      "\u001b[0;31m---------------------------------------------------------------------------\u001b[0m",
      "\u001b[0;31mModuleNotFoundError\u001b[0m                       Traceback (most recent call last)",
      "\u001b[0;32m<ipython-input-40-5cb5dc1e1b76>\u001b[0m in \u001b[0;36m<module>\u001b[0;34m()\u001b[0m\n\u001b[0;32m----> 1\u001b[0;31m \u001b[0;32mimport\u001b[0m \u001b[0mxml\u001b[0m\u001b[0;34m.\u001b[0m\u001b[0metree\u001b[0m\u001b[0;34m.\u001b[0m\u001b[0mElement\u001b[0m \u001b[0;32mas\u001b[0m \u001b[0mel\u001b[0m\u001b[0;34m\u001b[0m\u001b[0;34m\u001b[0m\u001b[0m\n\u001b[0m\u001b[1;32m      2\u001b[0m \u001b[0;34m\u001b[0m\u001b[0m\n\u001b[1;32m      3\u001b[0m \u001b[0mtree\u001b[0m \u001b[0;34m=\u001b[0m \u001b[0mET\u001b[0m\u001b[0;34m.\u001b[0m\u001b[0mfromstring\u001b[0m\u001b[0;34m(\u001b[0m\u001b[0mr\u001b[0m\u001b[0;34m.\u001b[0m\u001b[0mtext\u001b[0m\u001b[0;34m)\u001b[0m\u001b[0;34m\u001b[0m\u001b[0;34m\u001b[0m\u001b[0m\n\u001b[1;32m      4\u001b[0m \u001b[0ma\u001b[0m \u001b[0;34m=\u001b[0m \u001b[0mtree\u001b[0m\u001b[0;34m.\u001b[0m\u001b[0mfindall\u001b[0m\u001b[0;34m(\u001b[0m\u001b[0;34m'profiles//'\u001b[0m\u001b[0;34m)\u001b[0m\u001b[0;34m\u001b[0m\u001b[0;34m\u001b[0m\u001b[0m\n\u001b[1;32m      5\u001b[0m \u001b[0mprint\u001b[0m\u001b[0;34m(\u001b[0m\u001b[0mel\u001b[0m\u001b[0;34m.\u001b[0m\u001b[0mitertext\u001b[0m\u001b[0;34m(\u001b[0m\u001b[0ma\u001b[0m\u001b[0;34m)\u001b[0m\u001b[0;34m)\u001b[0m\u001b[0;34m\u001b[0m\u001b[0;34m\u001b[0m\u001b[0m\n",
      "\u001b[0;31mModuleNotFoundError\u001b[0m: No module named 'xml.etree.Element'"
     ]
    }
   ],
   "source": [
    "import xml.etree.Element as el\n",
    "\n",
    "tree = ET.fromstring(r.text)\n",
    "a = tree.findall('profiles//')\n",
    "print(el.itertext(a))"
   ]
  },
  {
   "cell_type": "code",
   "execution_count": 53,
   "metadata": {},
   "outputs": [
    {
     "name": "stdout",
     "output_type": "stream",
     "text": [
      "\n",
      "    \n"
     ]
    }
   ],
   "source": [
    "tree = ET.fromstring(r.text)\n",
    "a = tree.findall('profiles//')\n",
    "b = root.find('profiles')\n",
    "print(tree.findtext('profiles'))"
   ]
  },
  {
   "cell_type": "code",
   "execution_count": null,
   "metadata": {},
   "outputs": [],
   "source": []
  },
  {
   "cell_type": "code",
   "execution_count": null,
   "metadata": {},
   "outputs": [],
   "source": []
  },
  {
   "cell_type": "code",
   "execution_count": 50,
   "metadata": {},
   "outputs": [
    {
     "ename": "AttributeError",
     "evalue": "module 'xml.etree.ElementTree' has no attribute '__version__'",
     "output_type": "error",
     "traceback": [
      "\u001b[0;31m---------------------------------------------------------------------------\u001b[0m",
      "\u001b[0;31mAttributeError\u001b[0m                            Traceback (most recent call last)",
      "\u001b[0;32m<ipython-input-50-764b35062a36>\u001b[0m in \u001b[0;36m<module>\u001b[0;34m()\u001b[0m\n\u001b[0;32m----> 1\u001b[0;31m \u001b[0mprint\u001b[0m\u001b[0;34m(\u001b[0m\u001b[0mET\u001b[0m\u001b[0;34m.\u001b[0m\u001b[0m__version__\u001b[0m\u001b[0;34m)\u001b[0m\u001b[0;34m\u001b[0m\u001b[0;34m\u001b[0m\u001b[0m\n\u001b[0m",
      "\u001b[0;31mAttributeError\u001b[0m: module 'xml.etree.ElementTree' has no attribute '__version__'"
     ]
    }
   ],
   "source": [
    "print(ET.__version__)"
   ]
  },
  {
   "cell_type": "code",
   "execution_count": 69,
   "metadata": {},
   "outputs": [
    {
     "ename": "TypeError",
     "evalue": "unhashable type: 'list'",
     "output_type": "error",
     "traceback": [
      "\u001b[0;31m---------------------------------------------------------------------------\u001b[0m",
      "\u001b[0;31mTypeError\u001b[0m                                 Traceback (most recent call last)",
      "\u001b[0;32m<ipython-input-69-97fee695afc7>\u001b[0m in \u001b[0;36m<module>\u001b[0;34m()\u001b[0m\n\u001b[1;32m      2\u001b[0m \u001b[0ma\u001b[0m \u001b[0;34m=\u001b[0m \u001b[0mtree\u001b[0m\u001b[0;34m.\u001b[0m\u001b[0mfindall\u001b[0m\u001b[0;34m(\u001b[0m\u001b[0;34m'profiles//'\u001b[0m\u001b[0;34m)\u001b[0m\u001b[0;34m\u001b[0m\u001b[0;34m\u001b[0m\u001b[0m\n\u001b[1;32m      3\u001b[0m \u001b[0mb\u001b[0m \u001b[0;34m=\u001b[0m \u001b[0mroot\u001b[0m\u001b[0;34m.\u001b[0m\u001b[0mfind\u001b[0m\u001b[0;34m(\u001b[0m\u001b[0;34m'profile'\u001b[0m\u001b[0;34m)\u001b[0m\u001b[0;34m\u001b[0m\u001b[0;34m\u001b[0m\u001b[0m\n\u001b[0;32m----> 4\u001b[0;31m \u001b[0mprint\u001b[0m\u001b[0;34m(\u001b[0m\u001b[0mtree\u001b[0m\u001b[0;34m.\u001b[0m\u001b[0mfindtext\u001b[0m\u001b[0;34m(\u001b[0m\u001b[0ma\u001b[0m\u001b[0;34m)\u001b[0m\u001b[0;34m)\u001b[0m\u001b[0;34m\u001b[0m\u001b[0;34m\u001b[0m\u001b[0m\n\u001b[0m",
      "\u001b[0;32m/opt/conda/lib/python3.7/xml/etree/ElementPath.py\u001b[0m in \u001b[0;36mfindtext\u001b[0;34m(elem, path, default, namespaces)\u001b[0m\n\u001b[1;32m    318\u001b[0m \u001b[0;32mdef\u001b[0m \u001b[0mfindtext\u001b[0m\u001b[0;34m(\u001b[0m\u001b[0melem\u001b[0m\u001b[0;34m,\u001b[0m \u001b[0mpath\u001b[0m\u001b[0;34m,\u001b[0m \u001b[0mdefault\u001b[0m\u001b[0;34m=\u001b[0m\u001b[0;32mNone\u001b[0m\u001b[0;34m,\u001b[0m \u001b[0mnamespaces\u001b[0m\u001b[0;34m=\u001b[0m\u001b[0;32mNone\u001b[0m\u001b[0;34m)\u001b[0m\u001b[0;34m:\u001b[0m\u001b[0;34m\u001b[0m\u001b[0;34m\u001b[0m\u001b[0m\n\u001b[1;32m    319\u001b[0m     \u001b[0;32mtry\u001b[0m\u001b[0;34m:\u001b[0m\u001b[0;34m\u001b[0m\u001b[0;34m\u001b[0m\u001b[0m\n\u001b[0;32m--> 320\u001b[0;31m         \u001b[0melem\u001b[0m \u001b[0;34m=\u001b[0m \u001b[0mnext\u001b[0m\u001b[0;34m(\u001b[0m\u001b[0miterfind\u001b[0m\u001b[0;34m(\u001b[0m\u001b[0melem\u001b[0m\u001b[0;34m,\u001b[0m \u001b[0mpath\u001b[0m\u001b[0;34m,\u001b[0m \u001b[0mnamespaces\u001b[0m\u001b[0;34m)\u001b[0m\u001b[0;34m)\u001b[0m\u001b[0;34m\u001b[0m\u001b[0;34m\u001b[0m\u001b[0m\n\u001b[0m\u001b[1;32m    321\u001b[0m         \u001b[0;32mreturn\u001b[0m \u001b[0melem\u001b[0m\u001b[0;34m.\u001b[0m\u001b[0mtext\u001b[0m \u001b[0;32mor\u001b[0m \u001b[0;34m\"\"\u001b[0m\u001b[0;34m\u001b[0m\u001b[0;34m\u001b[0m\u001b[0m\n\u001b[1;32m    322\u001b[0m     \u001b[0;32mexcept\u001b[0m \u001b[0mStopIteration\u001b[0m\u001b[0;34m:\u001b[0m\u001b[0;34m\u001b[0m\u001b[0;34m\u001b[0m\u001b[0m\n",
      "\u001b[0;32m/opt/conda/lib/python3.7/xml/etree/ElementPath.py\u001b[0m in \u001b[0;36miterfind\u001b[0;34m(elem, path, namespaces)\u001b[0m\n\u001b[1;32m    270\u001b[0m         \u001b[0mpath\u001b[0m \u001b[0;34m=\u001b[0m \u001b[0mpath\u001b[0m \u001b[0;34m+\u001b[0m \u001b[0;34m\"*\"\u001b[0m \u001b[0;31m# implicit all (FIXME: keep this?)\u001b[0m\u001b[0;34m\u001b[0m\u001b[0;34m\u001b[0m\u001b[0m\n\u001b[1;32m    271\u001b[0m     \u001b[0;32mtry\u001b[0m\u001b[0;34m:\u001b[0m\u001b[0;34m\u001b[0m\u001b[0;34m\u001b[0m\u001b[0m\n\u001b[0;32m--> 272\u001b[0;31m         \u001b[0mselector\u001b[0m \u001b[0;34m=\u001b[0m \u001b[0m_cache\u001b[0m\u001b[0;34m[\u001b[0m\u001b[0mcache_key\u001b[0m\u001b[0;34m]\u001b[0m\u001b[0;34m\u001b[0m\u001b[0;34m\u001b[0m\u001b[0m\n\u001b[0m\u001b[1;32m    273\u001b[0m     \u001b[0;32mexcept\u001b[0m \u001b[0mKeyError\u001b[0m\u001b[0;34m:\u001b[0m\u001b[0;34m\u001b[0m\u001b[0;34m\u001b[0m\u001b[0m\n\u001b[1;32m    274\u001b[0m         \u001b[0;32mif\u001b[0m \u001b[0mlen\u001b[0m\u001b[0;34m(\u001b[0m\u001b[0m_cache\u001b[0m\u001b[0;34m)\u001b[0m \u001b[0;34m>\u001b[0m \u001b[0;36m100\u001b[0m\u001b[0;34m:\u001b[0m\u001b[0;34m\u001b[0m\u001b[0;34m\u001b[0m\u001b[0m\n",
      "\u001b[0;31mTypeError\u001b[0m: unhashable type: 'list'"
     ]
    }
   ],
   "source": [
    "tree = ET.fromstring(r.text)\n",
    "a = tree.findall('profiles//')\n",
    "b = root.find('profile')\n",
    "print(tree.findtext(a))"
   ]
  },
  {
   "cell_type": "code",
   "execution_count": 60,
   "metadata": {},
   "outputs": [],
   "source": [
    "tree = ET.fromstring(r.content)"
   ]
  },
  {
   "cell_type": "code",
   "execution_count": 70,
   "metadata": {},
   "outputs": [
    {
     "ename": "OSError",
     "evalue": "[Errno 36] File name too long: '<?xml version=\"1.0\" encoding=\"UTF-8\"?>\\n<response success=\"true\">\\n  <profiles num=\"10\" page=\"1\">\\n    <profile id=\"5509211\">\\n      <first_name/>\\n      <last_name/>\\n      <phone_number>17407073872</phone_number>\\n      <email>m@w.com</email>\\n      <status>Undeliverable</status>\\n      <created_at>2009-01-22 01:23:04 UTC</created_at>\\n      <updated_at>2009-12-21 09:03:06 UTC</updated_at>\\n      <opted_out_at>2009-12-21 09:03:06 UTC</opted_out_at>\\n      <opted_out_source>Phone was deactivated</opted_out_source>\\n      <source type=\"Keyword\" name=\"obama\" id=\"21511\" opt_in_path_id=\"19161\" message_id=\"\"/>\\n      <address>\\n        <street1/>\\n        <street2/>\\n        <city>San Francisco</city>\\n        <state>CA</state>\\n        <postal_code>94110</postal_code>\\n        <country>US</country>\\n      </address>\\n      <location>\\n        <latitude>37.748932</latitude>\\n        <longitude>-122.416281</longitude>\\n        <precision>place</precision>\\n        <city>San Francisco</city>\\n        <state>CA</state>\\n        <postal_code>94110</postal_code>\\n        <country>US</country>\\n      </location>\\n      <districts>\\n        <congressional_district>CA-12</congressional_district>\\n        <state_upper_district>CA-</state_upper_district>\\n        <state_lower_district>CA-</state_lower_district>\\n        <split_district>No</split_district>\\n      </districts>\\n    </profile>\\n    <profile id=\"5509361\">\\n      <first_name>Heather</first_name>\\n      <last_name>Buchheim</last_name>\\n      <phone_number>16502073946</phone_number>\\n      <email>watershed.heather@gmail.com</email>\\n      <status>Active Subscriber</status>\\n      <created_at>2009-01-22 01:39:46 UTC</created_at>\\n      <updated_at>2013-02-19 20:52:19 UTC</updated_at>\\n      <opted_out_at/>\\n      <opted_out_source/>\\n      <source type=\"Keyword\" name=\"obama\" id=\"21511\" opt_in_path_id=\"19161\" message_id=\"\"/>\\n      <address>\\n        <street1>100 Bush St. Ste. 850</street1>\\n        <street2/>\\n        <city>San Francisco</city>\\n        <state>CA</state>\\n        <postal_code>94104-3900</postal_code>\\n        <country>US</country>\\n      </address>\\n      <location>\\n        <latitude>37.791569</latitude>\\n        <longitude>-122.399964</longitude>\\n        <precision>rooftop</precision>\\n        <city>San Francisco</city>\\n        <state>CA</state>\\n        <postal_code>94104</postal_code>\\n        <country>US</country>\\n      </location>\\n      <districts>\\n        <congressional_district>CA-12</congressional_district>\\n        <state_upper_district>CA-11</state_upper_district>\\n        <state_lower_district>CA-17</state_lower_district>\\n        <split_district>No</split_district>\\n      </districts>\\n    </profile>\\n    <profile id=\"5511571\">\\n      <first_name/>\\n      <last_name/>\\n      <phone_number>15106846563</phone_number>\\n      <email>stanionis@gmail.com</email>\\n      <status>Undeliverable</status>\\n      <created_at>2009-01-22 07:19:04 UTC</created_at>\\n      <updated_at>2012-11-06 17:55:04 UTC</updated_at>\\n      <opted_out_at>2012-11-06 17:55:04 UTC</opted_out_at>\\n      <opted_out_source>Texted a STOP word</opted_out_source>\\n      <source type=\"Keyword\" name=\"obama\" id=\"21511\" opt_in_path_id=\"19161\" message_id=\"\"/>\\n      <address>\\n        <street1/>\\n        <street2/>\\n        <city>Albany</city>\\n        <state>CA</state>\\n        <postal_code>94710</postal_code>\\n        <country>US</country>\\n      </address>\\n      <location>\\n        <latitude>37.873366</latitude>\\n        <longitude>-122.30273</longitude>\\n        <precision>place</precision>\\n        <city>Berkeley</city>\\n        <state>CA</state>\\n        <postal_code>94710</postal_code>\\n        <country>US</country>\\n      </location>\\n      <districts>\\n        <congressional_district>CA-13</congressional_district>\\n        <state_upper_district>CA-</state_upper_district>\\n        <state_lower_district>CA-</state_lower_district>\\n        <split_district>No</split_district>\\n      </districts>\\n    </profile>\\n    <profile id=\"5511581\">\\n      <first_name>Madeline</first_name>\\n      <last_name>Stanionis</last_name>\\n      <phone_number>14157861637</phone_number>\\n      <email>madeline@watershedcompany.com</email>\\n      <status>Active Subscriber</status>\\n      <created_at>2009-01-22 07:26:18 UTC</created_at>\\n      <updated_at>2013-02-19 20:47:38 UTC</updated_at>\\n      <opted_out_at/>\\n      <opted_out_source/>\\n      <source type=\"Keyword\" name=\"obama\" id=\"21511\" opt_in_path_id=\"19161\" message_id=\"\"/>\\n      <address>\\n        <street1>1818 5th street</street1>\\n        <street2/>\\n        <city>berkeley</city>\\n        <state>CA</state>\\n        <postal_code>94710-1915</postal_code>\\n        <country>US</country>\\n      </address>\\n      <location>\\n        <latitude>37.869435</latitude>\\n        <longitude>-122.299687</longitude>\\n        <precision>rooftop</precision>\\n        <city>Berkeley</city>\\n        <state>CA</state>\\n        <postal_code>94710</postal_code>\\n        <country>US</country>\\n      </location>\\n      <districts>\\n        <congressional_district>CA-13</congressional_district>\\n        <state_upper_district>CA-9</state_upper_district>\\n        <state_lower_district>CA-15</state_lower_district>\\n        <split_district>No</split_district>\\n      </districts>\\n    </profile>\\n    <profile id=\"5513311\">\\n      <first_name/>\\n      <last_name/>\\n      <phone_number>14156994474</phone_number>\\n      <email>matt@mcommons.com</email>\\n      <status>Undeliverable</status>\\n      <created_at>2009-01-22 17:47:11 UTC</created_at>\\n      <updated_at>2010-01-28 09:02:39 UTC</updated_at>\\n      <opted_out_at>2010-01-28 09:02:39 UTC</opted_out_at>\\n      <opted_out_source>Phone was deactivated</opted_out_source>\\n      <source type=\"Opt-In Path\" name=\"global gag rule\" id=\"19181\"/>\\n      <address>\\n        <street1/>\\n        <street2/>\\n        <city>San Francisco</city>\\n        <state>CA</state>\\n        <postal_code>94109</postal_code>\\n        <country>US</country>\\n      </address>\\n      <location>\\n        <latitude>37.795219</latitude>\\n        <longitude>-122.420782</longitude>\\n        <precision>place</precision>\\n        <city>San Francisco</city>\\n        <state>CA</state>\\n        <postal_code>94109</postal_code>\\n        <country>US</country>\\n      </location>\\n      <districts>\\n        <congressional_district>CA-12</congressional_district>\\n        <state_upper_district>CA-</state_upper_district>\\n        <state_lower_district>CA-</state_lower_district>\\n        <split_district>No</split_district>\\n      </districts>\\n    </profile>\\n    <profile id=\"5514191\">\\n      <first_name>Ellen</first_name>\\n      <last_name>Freytag</last_name>\\n      <phone_number>14155958458</phone_number>\\n      <email>ellen.freytag@ppfa.org</email>\\n      <status>Active Subscriber</status>\\n      <created_at>2009-01-22 19:29:56 UTC</created_at>\\n      <updated_at>2019-05-22 14:46:17 UTC</updated_at>\\n      <opted_out_at/>\\n      <opted_out_source/>\\n      <source type=\"Opt-In Path\" name=\"global gag rule\" id=\"19181\"/>\\n      <address>\\n        <street1>1773 Lanier Pl NW Apt 19</street1>\\n        <street2/>\\n        <city>Washington</city>\\n        <state>DC</state>\\n        <postal_code>20009</postal_code>\\n        <country>US</country>\\n      </address>\\n      <location>\\n        <latitude>38.92452</latitude>\\n        <longitude>-77.042632</longitude>\\n        <precision>rooftop</precision>\\n        <city>Washington</city>\\n        <state>DC</state>\\n        <postal_code>20009</postal_code>\\n        <country>US</country>\\n      </location>\\n      <districts>\\n        <congressional_district>DC-1</congressional_district>\\n        <state_upper_district>DC-1</state_upper_district>\\n        <state_lower_district>DC-</state_lower_district>\\n        <split_district>No</split_district>\\n      </districts>\\n    </profile>\\n    <profile id=\"5515111\">\\n      <first_name>Amanda</first_name>\\n      <last_name>Larkin</last_name>\\n      <phone_number>14043139454</phone_number>\\n      <email>frogger24@sub-par.com</email>\\n      <status>Undeliverable</status>\\n      <created_at>2009-01-22 20:33:12 UTC</created_at>\\n      <updated_at>2013-02-19 20:51:24 UTC</updated_at>\\n      <opted_out_at>2010-01-01 09:34:01 UTC</opted_out_at>\\n      <opted_out_source>Phone was deactivated</opted_out_source>\\n      <source type=\"Uploaded Group\" name=\"ws_globalgag_012209\" id=\"6891\"/>\\n      <address>\\n        <street1>1823 Winchester Trail</street1>\\n        <street2/>\\n        <city>Atlanta</city>\\n        <state>GA</state>\\n        <postal_code>30341-1447</postal_code>\\n        <country>US</country>\\n      </address>\\n      <location>\\n        <latitude>33.908162</latitude>\\n        <longitude>-84.312857</longitude>\\n        <precision>rooftop</precision>\\n        <city>Atlanta</city>\\n        <state>GA</state>\\n        <postal_code>30341</postal_code>\\n        <country>US</country>\\n      </location>\\n      <districts>\\n        <congressional_district>GA-6</congressional_district>\\n        <state_upper_district>GA-40</state_upper_district>\\n        <state_lower_district>GA-80</state_lower_district>\\n        <split_district>No</split_district>\\n      </districts>\\n    </profile>\\n    <profile id=\"5515121\">\\n      <first_name>Kelly</first_name>\\n      <last_name>Bee</last_name>\\n      <phone_number>12035307379</phone_number>\\n      <email>kellybeehappy@hotmail.com</email>\\n      <status>Active Subscriber</status>\\n      <created_at>2009-01-22 20:33:12 UTC</created_at>\\n      <updated_at>2013-02-19 20:50:37 UTC</updated_at>\\n      <opted_out_at/>\\n      <opted_out_source/>\\n      <source type=\"Uploaded Group\" name=\"ws_globalgag_012209\" id=\"6891\"/>\\n      <address>\\n        <street1>20 Church Street</street1>\\n        <street2/>\\n        <city>North Branford</city>\\n        <state>CT</state>\\n        <postal_code>06471-1417</postal_code>\\n        <country>US</country>\\n      </address>\\n      <location>\\n        <latitude>41.328817</latitude>\\n        <longitude>-72.767545</longitude>\\n        <precision>rooftop</precision>\\n        <city>North Branford</city>\\n        <state>CT</state>\\n        <postal_code>06471</postal_code>\\n        <country>US</country>\\n      </location>\\n      <districts>\\n        <congressional_district>CT-3</congressional_district>\\n        <state_upper_district>CT-12</state_upper_district>\\n        <state_lower_district>CT-86</state_lower_district>\\n        <split_district>No</split_district>\\n      </districts>\\n    </profile>\\n    <profile id=\"5515131\">\\n      <first_name>Jennifer</first_name>\\n      <last_name>Olenchek</last_name>\\n      <phone_number>14146903494</phone_number>\\n      <email>jennifer.olenchek@ppwi.org</email>\\n      <status>Undeliverable</status>\\n      <created_at>2009-01-22 20:33:12 UTC</created_at>\\n      <updated_at>2018-12-14 19:37:29 UTC</updated_at>\\n      <opted_out_at>2018-12-14 19:37:29 UTC</opted_out_at>\\n      <opted_out_source>Texted a STOP word</opted_out_source>\\n      <source type=\"Uploaded Group\" name=\"ws_globalgag_012209\" id=\"6891\"/>\\n      <address>\\n        <street1>4315 S Burrell St</street1>\\n        <street2/>\\n        <city>Milwaukee</city>\\n        <state>WI</state>\\n        <postal_code>53207-5021</postal_code>\\n        <country>US</country>\\n      </address>\\n      <location>\\n        <latitude>42.966202</latitude>\\n        <longitude>-87.908555</longitude>\\n        <precision>range_interpolation</precision>\\n        <city>Milwaukee</city>\\n        <state>WI</state>\\n        <postal_code>53207</postal_code>\\n        <country>US</country>\\n      </location>\\n      <districts>\\n        <congressional_district>WI-4</congressional_district>\\n        <state_upper_district>WI-7</state_upper_district>\\n        <state_lower_district>WI-20</state_lower_district>\\n        <split_district>No</split_district>\\n      </districts>\\n    </profile>\\n    <profile id=\"5515141\">\\n      <first_name>Ronald &amp; Patricia</first_name>\\n      <last_name>Bern</last_name>\\n      <phone_number>13522811333</phone_number>\\n      <email>patbngracie@aol.com</email>\\n      <status>Active Subscriber</status>\\n      <created_at>2009-01-22 20:33:12 UTC</created_at>\\n      <updated_at>2018-11-03 14:17:23 UTC</updated_at>\\n      <opted_out_at/>\\n      <opted_out_source/>\\n      <source type=\"Uploaded Group\" name=\"ws_globalgag_012209\" id=\"6891\"/>\\n      <address>\\n        <street1>1301 NW 23rd Ter</street1>\\n        <street2/>\\n        <city>Gainesville</city>\\n        <state>FL</state>\\n        <postal_code>32605-5150</postal_code>\\n        <country>US</country>\\n      </address>\\n      <location>\\n        <latitude>29.663464</latitude>\\n        <longitude>-82.357424</longitude>\\n        <precision>rooftop</precision>\\n        <city>Gainesville</city>\\n        <state>FL</state>\\n        <postal_code>32605</postal_code>\\n        <country>US</country>\\n      </location>\\n      <districts>\\n        <congressional_district>FL-3</congressional_district>\\n        <state_upper_district>FL-8</state_upper_district>\\n        <state_lower_district>FL-21</state_lower_district>\\n        <split_district>No</split_district>\\n      </districts>\\n    </profile>\\n  </profiles>\\n</response>\\n'",
     "output_type": "error",
     "traceback": [
      "\u001b[0;31m---------------------------------------------------------------------------\u001b[0m",
      "\u001b[0;31mOSError\u001b[0m                                   Traceback (most recent call last)",
      "\u001b[0;32m<ipython-input-70-dfd1373a929a>\u001b[0m in \u001b[0;36m<module>\u001b[0;34m()\u001b[0m\n\u001b[0;32m----> 1\u001b[0;31m \u001b[0mc\u001b[0m \u001b[0;34m=\u001b[0m \u001b[0mET\u001b[0m\u001b[0;34m.\u001b[0m\u001b[0miterparse\u001b[0m\u001b[0;34m(\u001b[0m\u001b[0mr\u001b[0m\u001b[0;34m.\u001b[0m\u001b[0mtext\u001b[0m\u001b[0;34m)\u001b[0m\u001b[0;34m\u001b[0m\u001b[0;34m\u001b[0m\u001b[0m\n\u001b[0m\u001b[1;32m      2\u001b[0m \u001b[0mprint\u001b[0m\u001b[0;34m(\u001b[0m\u001b[0mc\u001b[0m\u001b[0;34m)\u001b[0m\u001b[0;34m\u001b[0m\u001b[0;34m\u001b[0m\u001b[0m\n",
      "\u001b[0;32m/opt/conda/lib/python3.7/xml/etree/ElementTree.py\u001b[0m in \u001b[0;36miterparse\u001b[0;34m(source, events, parser)\u001b[0m\n\u001b[1;32m   1241\u001b[0m     \u001b[0mclose_source\u001b[0m \u001b[0;34m=\u001b[0m \u001b[0;32mFalse\u001b[0m\u001b[0;34m\u001b[0m\u001b[0;34m\u001b[0m\u001b[0m\n\u001b[1;32m   1242\u001b[0m     \u001b[0;32mif\u001b[0m \u001b[0;32mnot\u001b[0m \u001b[0mhasattr\u001b[0m\u001b[0;34m(\u001b[0m\u001b[0msource\u001b[0m\u001b[0;34m,\u001b[0m \u001b[0;34m\"read\"\u001b[0m\u001b[0;34m)\u001b[0m\u001b[0;34m:\u001b[0m\u001b[0;34m\u001b[0m\u001b[0;34m\u001b[0m\u001b[0m\n\u001b[0;32m-> 1243\u001b[0;31m         \u001b[0msource\u001b[0m \u001b[0;34m=\u001b[0m \u001b[0mopen\u001b[0m\u001b[0;34m(\u001b[0m\u001b[0msource\u001b[0m\u001b[0;34m,\u001b[0m \u001b[0;34m\"rb\"\u001b[0m\u001b[0;34m)\u001b[0m\u001b[0;34m\u001b[0m\u001b[0;34m\u001b[0m\u001b[0m\n\u001b[0m\u001b[1;32m   1244\u001b[0m         \u001b[0mclose_source\u001b[0m \u001b[0;34m=\u001b[0m \u001b[0;32mTrue\u001b[0m\u001b[0;34m\u001b[0m\u001b[0;34m\u001b[0m\u001b[0m\n\u001b[1;32m   1245\u001b[0m \u001b[0;34m\u001b[0m\u001b[0m\n",
      "\u001b[0;31mOSError\u001b[0m: [Errno 36] File name too long: '<?xml version=\"1.0\" encoding=\"UTF-8\"?>\\n<response success=\"true\">\\n  <profiles num=\"10\" page=\"1\">\\n    <profile id=\"5509211\">\\n      <first_name/>\\n      <last_name/>\\n      <phone_number>17407073872</phone_number>\\n      <email>m@w.com</email>\\n      <status>Undeliverable</status>\\n      <created_at>2009-01-22 01:23:04 UTC</created_at>\\n      <updated_at>2009-12-21 09:03:06 UTC</updated_at>\\n      <opted_out_at>2009-12-21 09:03:06 UTC</opted_out_at>\\n      <opted_out_source>Phone was deactivated</opted_out_source>\\n      <source type=\"Keyword\" name=\"obama\" id=\"21511\" opt_in_path_id=\"19161\" message_id=\"\"/>\\n      <address>\\n        <street1/>\\n        <street2/>\\n        <city>San Francisco</city>\\n        <state>CA</state>\\n        <postal_code>94110</postal_code>\\n        <country>US</country>\\n      </address>\\n      <location>\\n        <latitude>37.748932</latitude>\\n        <longitude>-122.416281</longitude>\\n        <precision>place</precision>\\n        <city>San Francisco</city>\\n        <state>CA</state>\\n        <postal_code>94110</postal_code>\\n        <country>US</country>\\n      </location>\\n      <districts>\\n        <congressional_district>CA-12</congressional_district>\\n        <state_upper_district>CA-</state_upper_district>\\n        <state_lower_district>CA-</state_lower_district>\\n        <split_district>No</split_district>\\n      </districts>\\n    </profile>\\n    <profile id=\"5509361\">\\n      <first_name>Heather</first_name>\\n      <last_name>Buchheim</last_name>\\n      <phone_number>16502073946</phone_number>\\n      <email>watershed.heather@gmail.com</email>\\n      <status>Active Subscriber</status>\\n      <created_at>2009-01-22 01:39:46 UTC</created_at>\\n      <updated_at>2013-02-19 20:52:19 UTC</updated_at>\\n      <opted_out_at/>\\n      <opted_out_source/>\\n      <source type=\"Keyword\" name=\"obama\" id=\"21511\" opt_in_path_id=\"19161\" message_id=\"\"/>\\n      <address>\\n        <street1>100 Bush St. Ste. 850</street1>\\n        <street2/>\\n        <city>San Francisco</city>\\n        <state>CA</state>\\n        <postal_code>94104-3900</postal_code>\\n        <country>US</country>\\n      </address>\\n      <location>\\n        <latitude>37.791569</latitude>\\n        <longitude>-122.399964</longitude>\\n        <precision>rooftop</precision>\\n        <city>San Francisco</city>\\n        <state>CA</state>\\n        <postal_code>94104</postal_code>\\n        <country>US</country>\\n      </location>\\n      <districts>\\n        <congressional_district>CA-12</congressional_district>\\n        <state_upper_district>CA-11</state_upper_district>\\n        <state_lower_district>CA-17</state_lower_district>\\n        <split_district>No</split_district>\\n      </districts>\\n    </profile>\\n    <profile id=\"5511571\">\\n      <first_name/>\\n      <last_name/>\\n      <phone_number>15106846563</phone_number>\\n      <email>stanionis@gmail.com</email>\\n      <status>Undeliverable</status>\\n      <created_at>2009-01-22 07:19:04 UTC</created_at>\\n      <updated_at>2012-11-06 17:55:04 UTC</updated_at>\\n      <opted_out_at>2012-11-06 17:55:04 UTC</opted_out_at>\\n      <opted_out_source>Texted a STOP word</opted_out_source>\\n      <source type=\"Keyword\" name=\"obama\" id=\"21511\" opt_in_path_id=\"19161\" message_id=\"\"/>\\n      <address>\\n        <street1/>\\n        <street2/>\\n        <city>Albany</city>\\n        <state>CA</state>\\n        <postal_code>94710</postal_code>\\n        <country>US</country>\\n      </address>\\n      <location>\\n        <latitude>37.873366</latitude>\\n        <longitude>-122.30273</longitude>\\n        <precision>place</precision>\\n        <city>Berkeley</city>\\n        <state>CA</state>\\n        <postal_code>94710</postal_code>\\n        <country>US</country>\\n      </location>\\n      <districts>\\n        <congressional_district>CA-13</congressional_district>\\n        <state_upper_district>CA-</state_upper_district>\\n        <state_lower_district>CA-</state_lower_district>\\n        <split_district>No</split_district>\\n      </districts>\\n    </profile>\\n    <profile id=\"5511581\">\\n      <first_name>Madeline</first_name>\\n      <last_name>Stanionis</last_name>\\n      <phone_number>14157861637</phone_number>\\n      <email>madeline@watershedcompany.com</email>\\n      <status>Active Subscriber</status>\\n      <created_at>2009-01-22 07:26:18 UTC</created_at>\\n      <updated_at>2013-02-19 20:47:38 UTC</updated_at>\\n      <opted_out_at/>\\n      <opted_out_source/>\\n      <source type=\"Keyword\" name=\"obama\" id=\"21511\" opt_in_path_id=\"19161\" message_id=\"\"/>\\n      <address>\\n        <street1>1818 5th street</street1>\\n        <street2/>\\n        <city>berkeley</city>\\n        <state>CA</state>\\n        <postal_code>94710-1915</postal_code>\\n        <country>US</country>\\n      </address>\\n      <location>\\n        <latitude>37.869435</latitude>\\n        <longitude>-122.299687</longitude>\\n        <precision>rooftop</precision>\\n        <city>Berkeley</city>\\n        <state>CA</state>\\n        <postal_code>94710</postal_code>\\n        <country>US</country>\\n      </location>\\n      <districts>\\n        <congressional_district>CA-13</congressional_district>\\n        <state_upper_district>CA-9</state_upper_district>\\n        <state_lower_district>CA-15</state_lower_district>\\n        <split_district>No</split_district>\\n      </districts>\\n    </profile>\\n    <profile id=\"5513311\">\\n      <first_name/>\\n      <last_name/>\\n      <phone_number>14156994474</phone_number>\\n      <email>matt@mcommons.com</email>\\n      <status>Undeliverable</status>\\n      <created_at>2009-01-22 17:47:11 UTC</created_at>\\n      <updated_at>2010-01-28 09:02:39 UTC</updated_at>\\n      <opted_out_at>2010-01-28 09:02:39 UTC</opted_out_at>\\n      <opted_out_source>Phone was deactivated</opted_out_source>\\n      <source type=\"Opt-In Path\" name=\"global gag rule\" id=\"19181\"/>\\n      <address>\\n        <street1/>\\n        <street2/>\\n        <city>San Francisco</city>\\n        <state>CA</state>\\n        <postal_code>94109</postal_code>\\n        <country>US</country>\\n      </address>\\n      <location>\\n        <latitude>37.795219</latitude>\\n        <longitude>-122.420782</longitude>\\n        <precision>place</precision>\\n        <city>San Francisco</city>\\n        <state>CA</state>\\n        <postal_code>94109</postal_code>\\n        <country>US</country>\\n      </location>\\n      <districts>\\n        <congressional_district>CA-12</congressional_district>\\n        <state_upper_district>CA-</state_upper_district>\\n        <state_lower_district>CA-</state_lower_district>\\n        <split_district>No</split_district>\\n      </districts>\\n    </profile>\\n    <profile id=\"5514191\">\\n      <first_name>Ellen</first_name>\\n      <last_name>Freytag</last_name>\\n      <phone_number>14155958458</phone_number>\\n      <email>ellen.freytag@ppfa.org</email>\\n      <status>Active Subscriber</status>\\n      <created_at>2009-01-22 19:29:56 UTC</created_at>\\n      <updated_at>2019-05-22 14:46:17 UTC</updated_at>\\n      <opted_out_at/>\\n      <opted_out_source/>\\n      <source type=\"Opt-In Path\" name=\"global gag rule\" id=\"19181\"/>\\n      <address>\\n        <street1>1773 Lanier Pl NW Apt 19</street1>\\n        <street2/>\\n        <city>Washington</city>\\n        <state>DC</state>\\n        <postal_code>20009</postal_code>\\n        <country>US</country>\\n      </address>\\n      <location>\\n        <latitude>38.92452</latitude>\\n        <longitude>-77.042632</longitude>\\n        <precision>rooftop</precision>\\n        <city>Washington</city>\\n        <state>DC</state>\\n        <postal_code>20009</postal_code>\\n        <country>US</country>\\n      </location>\\n      <districts>\\n        <congressional_district>DC-1</congressional_district>\\n        <state_upper_district>DC-1</state_upper_district>\\n        <state_lower_district>DC-</state_lower_district>\\n        <split_district>No</split_district>\\n      </districts>\\n    </profile>\\n    <profile id=\"5515111\">\\n      <first_name>Amanda</first_name>\\n      <last_name>Larkin</last_name>\\n      <phone_number>14043139454</phone_number>\\n      <email>frogger24@sub-par.com</email>\\n      <status>Undeliverable</status>\\n      <created_at>2009-01-22 20:33:12 UTC</created_at>\\n      <updated_at>2013-02-19 20:51:24 UTC</updated_at>\\n      <opted_out_at>2010-01-01 09:34:01 UTC</opted_out_at>\\n      <opted_out_source>Phone was deactivated</opted_out_source>\\n      <source type=\"Uploaded Group\" name=\"ws_globalgag_012209\" id=\"6891\"/>\\n      <address>\\n        <street1>1823 Winchester Trail</street1>\\n        <street2/>\\n        <city>Atlanta</city>\\n        <state>GA</state>\\n        <postal_code>30341-1447</postal_code>\\n        <country>US</country>\\n      </address>\\n      <location>\\n        <latitude>33.908162</latitude>\\n        <longitude>-84.312857</longitude>\\n        <precision>rooftop</precision>\\n        <city>Atlanta</city>\\n        <state>GA</state>\\n        <postal_code>30341</postal_code>\\n        <country>US</country>\\n      </location>\\n      <districts>\\n        <congressional_district>GA-6</congressional_district>\\n        <state_upper_district>GA-40</state_upper_district>\\n        <state_lower_district>GA-80</state_lower_district>\\n        <split_district>No</split_district>\\n      </districts>\\n    </profile>\\n    <profile id=\"5515121\">\\n      <first_name>Kelly</first_name>\\n      <last_name>Bee</last_name>\\n      <phone_number>12035307379</phone_number>\\n      <email>kellybeehappy@hotmail.com</email>\\n      <status>Active Subscriber</status>\\n      <created_at>2009-01-22 20:33:12 UTC</created_at>\\n      <updated_at>2013-02-19 20:50:37 UTC</updated_at>\\n      <opted_out_at/>\\n      <opted_out_source/>\\n      <source type=\"Uploaded Group\" name=\"ws_globalgag_012209\" id=\"6891\"/>\\n      <address>\\n        <street1>20 Church Street</street1>\\n        <street2/>\\n        <city>North Branford</city>\\n        <state>CT</state>\\n        <postal_code>06471-1417</postal_code>\\n        <country>US</country>\\n      </address>\\n      <location>\\n        <latitude>41.328817</latitude>\\n        <longitude>-72.767545</longitude>\\n        <precision>rooftop</precision>\\n        <city>North Branford</city>\\n        <state>CT</state>\\n        <postal_code>06471</postal_code>\\n        <country>US</country>\\n      </location>\\n      <districts>\\n        <congressional_district>CT-3</congressional_district>\\n        <state_upper_district>CT-12</state_upper_district>\\n        <state_lower_district>CT-86</state_lower_district>\\n        <split_district>No</split_district>\\n      </districts>\\n    </profile>\\n    <profile id=\"5515131\">\\n      <first_name>Jennifer</first_name>\\n      <last_name>Olenchek</last_name>\\n      <phone_number>14146903494</phone_number>\\n      <email>jennifer.olenchek@ppwi.org</email>\\n      <status>Undeliverable</status>\\n      <created_at>2009-01-22 20:33:12 UTC</created_at>\\n      <updated_at>2018-12-14 19:37:29 UTC</updated_at>\\n      <opted_out_at>2018-12-14 19:37:29 UTC</opted_out_at>\\n      <opted_out_source>Texted a STOP word</opted_out_source>\\n      <source type=\"Uploaded Group\" name=\"ws_globalgag_012209\" id=\"6891\"/>\\n      <address>\\n        <street1>4315 S Burrell St</street1>\\n        <street2/>\\n        <city>Milwaukee</city>\\n        <state>WI</state>\\n        <postal_code>53207-5021</postal_code>\\n        <country>US</country>\\n      </address>\\n      <location>\\n        <latitude>42.966202</latitude>\\n        <longitude>-87.908555</longitude>\\n        <precision>range_interpolation</precision>\\n        <city>Milwaukee</city>\\n        <state>WI</state>\\n        <postal_code>53207</postal_code>\\n        <country>US</country>\\n      </location>\\n      <districts>\\n        <congressional_district>WI-4</congressional_district>\\n        <state_upper_district>WI-7</state_upper_district>\\n        <state_lower_district>WI-20</state_lower_district>\\n        <split_district>No</split_district>\\n      </districts>\\n    </profile>\\n    <profile id=\"5515141\">\\n      <first_name>Ronald &amp; Patricia</first_name>\\n      <last_name>Bern</last_name>\\n      <phone_number>13522811333</phone_number>\\n      <email>patbngracie@aol.com</email>\\n      <status>Active Subscriber</status>\\n      <created_at>2009-01-22 20:33:12 UTC</created_at>\\n      <updated_at>2018-11-03 14:17:23 UTC</updated_at>\\n      <opted_out_at/>\\n      <opted_out_source/>\\n      <source type=\"Uploaded Group\" name=\"ws_globalgag_012209\" id=\"6891\"/>\\n      <address>\\n        <street1>1301 NW 23rd Ter</street1>\\n        <street2/>\\n        <city>Gainesville</city>\\n        <state>FL</state>\\n        <postal_code>32605-5150</postal_code>\\n        <country>US</country>\\n      </address>\\n      <location>\\n        <latitude>29.663464</latitude>\\n        <longitude>-82.357424</longitude>\\n        <precision>rooftop</precision>\\n        <city>Gainesville</city>\\n        <state>FL</state>\\n        <postal_code>32605</postal_code>\\n        <country>US</country>\\n      </location>\\n      <districts>\\n        <congressional_district>FL-3</congressional_district>\\n        <state_upper_district>FL-8</state_upper_district>\\n        <state_lower_district>FL-21</state_lower_district>\\n        <split_district>No</split_district>\\n      </districts>\\n    </profile>\\n  </profiles>\\n</response>\\n'"
     ]
    }
   ],
   "source": [
    "c = ET.iterparse(r.text)\n",
    "print(c)"
   ]
  },
  {
   "cell_type": "code",
   "execution_count": 74,
   "metadata": {},
   "outputs": [
    {
     "ename": "AttributeError",
     "evalue": "'str' object has no attribute 'iter'",
     "output_type": "error",
     "traceback": [
      "\u001b[0;31m---------------------------------------------------------------------------\u001b[0m",
      "\u001b[0;31mAttributeError\u001b[0m                            Traceback (most recent call last)",
      "\u001b[0;32m<ipython-input-74-f547f583c573>\u001b[0m in \u001b[0;36m<module>\u001b[0;34m()\u001b[0m\n\u001b[1;32m      1\u001b[0m \u001b[0mtree\u001b[0m \u001b[0;34m=\u001b[0m \u001b[0mET\u001b[0m\u001b[0;34m.\u001b[0m\u001b[0mfromstring\u001b[0m\u001b[0;34m(\u001b[0m\u001b[0mr\u001b[0m\u001b[0;34m.\u001b[0m\u001b[0mtext\u001b[0m\u001b[0;34m)\u001b[0m\u001b[0;34m\u001b[0m\u001b[0;34m\u001b[0m\u001b[0m\n\u001b[0;32m----> 2\u001b[0;31m \u001b[0ma\u001b[0m \u001b[0;34m=\u001b[0m \u001b[0mET\u001b[0m\u001b[0;34m.\u001b[0m\u001b[0mdump\u001b[0m\u001b[0;34m(\u001b[0m\u001b[0;34m'profiles//'\u001b[0m\u001b[0;34m)\u001b[0m\u001b[0;34m\u001b[0m\u001b[0;34m\u001b[0m\u001b[0m\n\u001b[0m\u001b[1;32m      3\u001b[0m \u001b[0mb\u001b[0m \u001b[0;34m=\u001b[0m \u001b[0mroot\u001b[0m\u001b[0;34m.\u001b[0m\u001b[0mfind\u001b[0m\u001b[0;34m(\u001b[0m\u001b[0;34m'profiles'\u001b[0m\u001b[0;34m)\u001b[0m\u001b[0;34m\u001b[0m\u001b[0;34m\u001b[0m\u001b[0m\n\u001b[1;32m      4\u001b[0m \u001b[0mprint\u001b[0m\u001b[0;34m(\u001b[0m\u001b[0ma\u001b[0m\u001b[0;34m)\u001b[0m\u001b[0;34m\u001b[0m\u001b[0;34m\u001b[0m\u001b[0m\n",
      "\u001b[0;32m/opt/conda/lib/python3.7/xml/etree/ElementTree.py\u001b[0m in \u001b[0;36mdump\u001b[0;34m(elem)\u001b[0m\n\u001b[1;32m   1176\u001b[0m     \u001b[0;32mif\u001b[0m \u001b[0;32mnot\u001b[0m \u001b[0misinstance\u001b[0m\u001b[0;34m(\u001b[0m\u001b[0melem\u001b[0m\u001b[0;34m,\u001b[0m \u001b[0mElementTree\u001b[0m\u001b[0;34m)\u001b[0m\u001b[0;34m:\u001b[0m\u001b[0;34m\u001b[0m\u001b[0;34m\u001b[0m\u001b[0m\n\u001b[1;32m   1177\u001b[0m         \u001b[0melem\u001b[0m \u001b[0;34m=\u001b[0m \u001b[0mElementTree\u001b[0m\u001b[0;34m(\u001b[0m\u001b[0melem\u001b[0m\u001b[0;34m)\u001b[0m\u001b[0;34m\u001b[0m\u001b[0;34m\u001b[0m\u001b[0m\n\u001b[0;32m-> 1178\u001b[0;31m     \u001b[0melem\u001b[0m\u001b[0;34m.\u001b[0m\u001b[0mwrite\u001b[0m\u001b[0;34m(\u001b[0m\u001b[0msys\u001b[0m\u001b[0;34m.\u001b[0m\u001b[0mstdout\u001b[0m\u001b[0;34m,\u001b[0m \u001b[0mencoding\u001b[0m\u001b[0;34m=\u001b[0m\u001b[0;34m\"unicode\"\u001b[0m\u001b[0;34m)\u001b[0m\u001b[0;34m\u001b[0m\u001b[0;34m\u001b[0m\u001b[0m\n\u001b[0m\u001b[1;32m   1179\u001b[0m     \u001b[0mtail\u001b[0m \u001b[0;34m=\u001b[0m \u001b[0melem\u001b[0m\u001b[0;34m.\u001b[0m\u001b[0mgetroot\u001b[0m\u001b[0;34m(\u001b[0m\u001b[0;34m)\u001b[0m\u001b[0;34m.\u001b[0m\u001b[0mtail\u001b[0m\u001b[0;34m\u001b[0m\u001b[0;34m\u001b[0m\u001b[0m\n\u001b[1;32m   1180\u001b[0m     \u001b[0;32mif\u001b[0m \u001b[0;32mnot\u001b[0m \u001b[0mtail\u001b[0m \u001b[0;32mor\u001b[0m \u001b[0mtail\u001b[0m\u001b[0;34m[\u001b[0m\u001b[0;34m-\u001b[0m\u001b[0;36m1\u001b[0m\u001b[0;34m]\u001b[0m \u001b[0;34m!=\u001b[0m \u001b[0;34m\"\\n\"\u001b[0m\u001b[0;34m:\u001b[0m\u001b[0;34m\u001b[0m\u001b[0;34m\u001b[0m\u001b[0m\n",
      "\u001b[0;32m/opt/conda/lib/python3.7/xml/etree/ElementTree.py\u001b[0m in \u001b[0;36mwrite\u001b[0;34m(self, file_or_filename, encoding, xml_declaration, default_namespace, method, short_empty_elements)\u001b[0m\n\u001b[1;32m    772\u001b[0m                 \u001b[0m_serialize_text\u001b[0m\u001b[0;34m(\u001b[0m\u001b[0mwrite\u001b[0m\u001b[0;34m,\u001b[0m \u001b[0mself\u001b[0m\u001b[0;34m.\u001b[0m\u001b[0m_root\u001b[0m\u001b[0;34m)\u001b[0m\u001b[0;34m\u001b[0m\u001b[0;34m\u001b[0m\u001b[0m\n\u001b[1;32m    773\u001b[0m             \u001b[0;32melse\u001b[0m\u001b[0;34m:\u001b[0m\u001b[0;34m\u001b[0m\u001b[0;34m\u001b[0m\u001b[0m\n\u001b[0;32m--> 774\u001b[0;31m                 \u001b[0mqnames\u001b[0m\u001b[0;34m,\u001b[0m \u001b[0mnamespaces\u001b[0m \u001b[0;34m=\u001b[0m \u001b[0m_namespaces\u001b[0m\u001b[0;34m(\u001b[0m\u001b[0mself\u001b[0m\u001b[0;34m.\u001b[0m\u001b[0m_root\u001b[0m\u001b[0;34m,\u001b[0m \u001b[0mdefault_namespace\u001b[0m\u001b[0;34m)\u001b[0m\u001b[0;34m\u001b[0m\u001b[0;34m\u001b[0m\u001b[0m\n\u001b[0m\u001b[1;32m    775\u001b[0m                 \u001b[0mserialize\u001b[0m \u001b[0;34m=\u001b[0m \u001b[0m_serialize\u001b[0m\u001b[0;34m[\u001b[0m\u001b[0mmethod\u001b[0m\u001b[0;34m]\u001b[0m\u001b[0;34m\u001b[0m\u001b[0;34m\u001b[0m\u001b[0m\n\u001b[1;32m    776\u001b[0m                 serialize(write, self._root, qnames, namespaces,\n",
      "\u001b[0;32m/opt/conda/lib/python3.7/xml/etree/ElementTree.py\u001b[0m in \u001b[0;36m_namespaces\u001b[0;34m(elem, default_namespace)\u001b[0m\n\u001b[1;32m    875\u001b[0m \u001b[0;34m\u001b[0m\u001b[0m\n\u001b[1;32m    876\u001b[0m     \u001b[0;31m# populate qname and namespaces table\u001b[0m\u001b[0;34m\u001b[0m\u001b[0;34m\u001b[0m\u001b[0;34m\u001b[0m\u001b[0m\n\u001b[0;32m--> 877\u001b[0;31m     \u001b[0;32mfor\u001b[0m \u001b[0melem\u001b[0m \u001b[0;32min\u001b[0m \u001b[0melem\u001b[0m\u001b[0;34m.\u001b[0m\u001b[0miter\u001b[0m\u001b[0;34m(\u001b[0m\u001b[0;34m)\u001b[0m\u001b[0;34m:\u001b[0m\u001b[0;34m\u001b[0m\u001b[0;34m\u001b[0m\u001b[0m\n\u001b[0m\u001b[1;32m    878\u001b[0m         \u001b[0mtag\u001b[0m \u001b[0;34m=\u001b[0m \u001b[0melem\u001b[0m\u001b[0;34m.\u001b[0m\u001b[0mtag\u001b[0m\u001b[0;34m\u001b[0m\u001b[0;34m\u001b[0m\u001b[0m\n\u001b[1;32m    879\u001b[0m         \u001b[0;32mif\u001b[0m \u001b[0misinstance\u001b[0m\u001b[0;34m(\u001b[0m\u001b[0mtag\u001b[0m\u001b[0;34m,\u001b[0m \u001b[0mQName\u001b[0m\u001b[0;34m)\u001b[0m\u001b[0;34m:\u001b[0m\u001b[0;34m\u001b[0m\u001b[0;34m\u001b[0m\u001b[0m\n",
      "\u001b[0;31mAttributeError\u001b[0m: 'str' object has no attribute 'iter'"
     ]
    }
   ],
   "source": [
    "tree = ET.fromstring(r.text)\n",
    "a = ET.dump('profiles//')\n",
    "b = root.find('profiles')\n",
    "print(a)"
   ]
  },
  {
   "cell_type": "code",
   "execution_count": 89,
   "metadata": {},
   "outputs": [
    {
     "name": "stdout",
     "output_type": "stream",
     "text": [
      "[<Element 'profile' at 0x7fc6271fb098>, <Element 'first_name' at 0x7fc62725edb8>, <Element 'last_name' at 0x7fc62725ef98>, <Element 'phone_number' at 0x7fc62725eef8>, <Element 'email' at 0x7fc62725eea8>, <Element 'status' at 0x7fc62725ec28>, <Element 'created_at' at 0x7fc62725ef48>, <Element 'updated_at' at 0x7fc62725ee58>, <Element 'opted_out_at' at 0x7fc6272159f8>, <Element 'opted_out_source' at 0x7fc627215a48>, <Element 'source' at 0x7fc627215a98>, <Element 'address' at 0x7fc627215ae8>, <Element 'street1' at 0x7fc627215b38>, <Element 'street2' at 0x7fc627215b88>, <Element 'city' at 0x7fc627215bd8>, <Element 'state' at 0x7fc627215c28>, <Element 'postal_code' at 0x7fc627215c78>, <Element 'country' at 0x7fc627215cc8>, <Element 'location' at 0x7fc627215d18>, <Element 'latitude' at 0x7fc627215d68>, <Element 'longitude' at 0x7fc627215db8>, <Element 'precision' at 0x7fc627215e08>, <Element 'city' at 0x7fc627215e58>, <Element 'state' at 0x7fc627215ea8>, <Element 'postal_code' at 0x7fc627215ef8>, <Element 'country' at 0x7fc627215f48>, <Element 'districts' at 0x7fc627215f98>, <Element 'congressional_district' at 0x7fc627265048>, <Element 'state_upper_district' at 0x7fc627265098>, <Element 'state_lower_district' at 0x7fc6272650e8>, <Element 'split_district' at 0x7fc627265138>, <Element 'profile' at 0x7fc627265188>, <Element 'first_name' at 0x7fc6272651d8>, <Element 'last_name' at 0x7fc627265228>, <Element 'phone_number' at 0x7fc627265278>, <Element 'email' at 0x7fc6272652c8>, <Element 'status' at 0x7fc627265368>, <Element 'created_at' at 0x7fc6272653b8>, <Element 'updated_at' at 0x7fc627265408>, <Element 'opted_out_at' at 0x7fc627265458>, <Element 'opted_out_source' at 0x7fc6272654a8>, <Element 'source' at 0x7fc6272654f8>, <Element 'address' at 0x7fc627265548>, <Element 'street1' at 0x7fc627265598>, <Element 'street2' at 0x7fc6272655e8>, <Element 'city' at 0x7fc627265638>, <Element 'state' at 0x7fc627265688>, <Element 'postal_code' at 0x7fc6272656d8>, <Element 'country' at 0x7fc627265728>, <Element 'location' at 0x7fc627265778>, <Element 'latitude' at 0x7fc6272657c8>, <Element 'longitude' at 0x7fc627265818>, <Element 'precision' at 0x7fc627265868>, <Element 'city' at 0x7fc6272658b8>, <Element 'state' at 0x7fc627265908>, <Element 'postal_code' at 0x7fc627265958>, <Element 'country' at 0x7fc6272659a8>, <Element 'districts' at 0x7fc6272659f8>, <Element 'congressional_district' at 0x7fc627265a48>, <Element 'state_upper_district' at 0x7fc627265a98>, <Element 'state_lower_district' at 0x7fc627265ae8>, <Element 'split_district' at 0x7fc627265b38>, <Element 'profile' at 0x7fc627265b88>, <Element 'first_name' at 0x7fc627265bd8>, <Element 'last_name' at 0x7fc627265c28>, <Element 'phone_number' at 0x7fc627265c78>, <Element 'email' at 0x7fc627265cc8>, <Element 'status' at 0x7fc627265d18>, <Element 'created_at' at 0x7fc627265d68>, <Element 'updated_at' at 0x7fc627265db8>, <Element 'opted_out_at' at 0x7fc627265e08>, <Element 'opted_out_source' at 0x7fc627265e58>, <Element 'source' at 0x7fc627265ea8>, <Element 'address' at 0x7fc627265ef8>, <Element 'street1' at 0x7fc627265f48>, <Element 'street2' at 0x7fc627265f98>, <Element 'city' at 0x7fc627267048>, <Element 'state' at 0x7fc627267098>, <Element 'postal_code' at 0x7fc6272670e8>, <Element 'country' at 0x7fc627267138>, <Element 'location' at 0x7fc627267188>, <Element 'latitude' at 0x7fc6272671d8>, <Element 'longitude' at 0x7fc627267228>, <Element 'precision' at 0x7fc627267278>, <Element 'city' at 0x7fc6272672c8>, <Element 'state' at 0x7fc627267318>, <Element 'postal_code' at 0x7fc627267368>, <Element 'country' at 0x7fc6272673b8>, <Element 'districts' at 0x7fc627267408>, <Element 'congressional_district' at 0x7fc627267458>, <Element 'state_upper_district' at 0x7fc6272674a8>, <Element 'state_lower_district' at 0x7fc6272674f8>, <Element 'split_district' at 0x7fc627267548>, <Element 'profile' at 0x7fc627267598>, <Element 'first_name' at 0x7fc6272675e8>, <Element 'last_name' at 0x7fc627267638>, <Element 'phone_number' at 0x7fc627267688>, <Element 'email' at 0x7fc6272676d8>, <Element 'status' at 0x7fc627267778>, <Element 'created_at' at 0x7fc6272677c8>, <Element 'updated_at' at 0x7fc627267818>, <Element 'opted_out_at' at 0x7fc627267868>, <Element 'opted_out_source' at 0x7fc6272678b8>, <Element 'source' at 0x7fc627267908>, <Element 'address' at 0x7fc627267958>, <Element 'street1' at 0x7fc6272679a8>, <Element 'street2' at 0x7fc6272679f8>, <Element 'city' at 0x7fc627267a48>, <Element 'state' at 0x7fc627267a98>, <Element 'postal_code' at 0x7fc627267ae8>, <Element 'country' at 0x7fc627267b38>, <Element 'location' at 0x7fc627267b88>, <Element 'latitude' at 0x7fc627267bd8>, <Element 'longitude' at 0x7fc627267c28>, <Element 'precision' at 0x7fc627267c78>, <Element 'city' at 0x7fc627267cc8>, <Element 'state' at 0x7fc627267d18>, <Element 'postal_code' at 0x7fc627267d68>, <Element 'country' at 0x7fc627267db8>, <Element 'districts' at 0x7fc627267e08>, <Element 'congressional_district' at 0x7fc627267e58>, <Element 'state_upper_district' at 0x7fc627267ea8>, <Element 'state_lower_district' at 0x7fc627267ef8>, <Element 'split_district' at 0x7fc627267f48>, <Element 'profile' at 0x7fc627267f98>, <Element 'first_name' at 0x7fc6271f7048>, <Element 'last_name' at 0x7fc6271f7098>, <Element 'phone_number' at 0x7fc6271f70e8>, <Element 'email' at 0x7fc6271f7138>, <Element 'status' at 0x7fc6271f7188>, <Element 'created_at' at 0x7fc6271f71d8>, <Element 'updated_at' at 0x7fc6271f7228>, <Element 'opted_out_at' at 0x7fc6271f7278>, <Element 'opted_out_source' at 0x7fc6271f72c8>, <Element 'source' at 0x7fc6271f7318>, <Element 'address' at 0x7fc6271f7368>, <Element 'street1' at 0x7fc6271f73b8>, <Element 'street2' at 0x7fc6271f7408>, <Element 'city' at 0x7fc6271f7458>, <Element 'state' at 0x7fc6271f74a8>, <Element 'postal_code' at 0x7fc6271f74f8>, <Element 'country' at 0x7fc6271f7548>, <Element 'location' at 0x7fc6271f7598>, <Element 'latitude' at 0x7fc6271f75e8>, <Element 'longitude' at 0x7fc6271f7638>, <Element 'precision' at 0x7fc6271f7688>, <Element 'city' at 0x7fc6271f76d8>, <Element 'state' at 0x7fc6271f7728>, <Element 'postal_code' at 0x7fc6271f7778>, <Element 'country' at 0x7fc6271f77c8>, <Element 'districts' at 0x7fc6271f7818>, <Element 'congressional_district' at 0x7fc6271f7868>, <Element 'state_upper_district' at 0x7fc6271f78b8>, <Element 'state_lower_district' at 0x7fc6271f7908>, <Element 'split_district' at 0x7fc6271f7958>, <Element 'profile' at 0x7fc6271f79a8>, <Element 'first_name' at 0x7fc6271f79f8>, <Element 'last_name' at 0x7fc6271f7a48>, <Element 'phone_number' at 0x7fc6271f7a98>, <Element 'email' at 0x7fc6271f7ae8>, <Element 'status' at 0x7fc6271f7b38>, <Element 'created_at' at 0x7fc6271f7b88>, <Element 'updated_at' at 0x7fc6271f7bd8>, <Element 'opted_out_at' at 0x7fc6271f7c28>, <Element 'opted_out_source' at 0x7fc6271f7c78>, <Element 'source' at 0x7fc6271f7cc8>, <Element 'address' at 0x7fc6271f7d18>, <Element 'street1' at 0x7fc6271f7d68>, <Element 'street2' at 0x7fc6271f7e08>, <Element 'city' at 0x7fc6271f7e58>, <Element 'state' at 0x7fc6271f7ea8>, <Element 'postal_code' at 0x7fc6271f7ef8>, <Element 'country' at 0x7fc6271f7f48>, <Element 'location' at 0x7fc6271f7f98>, <Element 'latitude' at 0x7fc6271eb048>, <Element 'longitude' at 0x7fc6271eb098>, <Element 'precision' at 0x7fc6271eb0e8>, <Element 'city' at 0x7fc6271eb138>, <Element 'state' at 0x7fc6271eb188>, <Element 'postal_code' at 0x7fc6271eb1d8>, <Element 'country' at 0x7fc6271eb228>, <Element 'districts' at 0x7fc6271eb278>, <Element 'congressional_district' at 0x7fc6271eb2c8>, <Element 'state_upper_district' at 0x7fc6271eb318>, <Element 'state_lower_district' at 0x7fc6271eb368>, <Element 'split_district' at 0x7fc6271eb3b8>, <Element 'profile' at 0x7fc6271eb408>, <Element 'first_name' at 0x7fc6271eb458>, <Element 'last_name' at 0x7fc6271eb4a8>, <Element 'phone_number' at 0x7fc6271eb4f8>, <Element 'email' at 0x7fc6271eb548>, <Element 'status' at 0x7fc6271eb598>, <Element 'created_at' at 0x7fc6271eb5e8>, <Element 'updated_at' at 0x7fc6271eb638>, <Element 'opted_out_at' at 0x7fc6271eb688>, <Element 'opted_out_source' at 0x7fc6271eb6d8>, <Element 'source' at 0x7fc6271eb728>, <Element 'address' at 0x7fc6271eb778>, <Element 'street1' at 0x7fc6271eb7c8>, <Element 'street2' at 0x7fc6271eb818>, <Element 'city' at 0x7fc6271eb868>, <Element 'state' at 0x7fc6271eb8b8>, <Element 'postal_code' at 0x7fc6271eb908>, <Element 'country' at 0x7fc6271eb958>, <Element 'location' at 0x7fc6271eb9a8>, <Element 'latitude' at 0x7fc6271eb9f8>, <Element 'longitude' at 0x7fc6271eba48>, <Element 'precision' at 0x7fc6271eba98>, <Element 'city' at 0x7fc6271ebae8>, <Element 'state' at 0x7fc6271ebb38>, <Element 'postal_code' at 0x7fc6271ebb88>, <Element 'country' at 0x7fc6271ebbd8>, <Element 'districts' at 0x7fc6271ebc28>, <Element 'congressional_district' at 0x7fc6271ebc78>, <Element 'state_upper_district' at 0x7fc6271ebcc8>, <Element 'state_lower_district' at 0x7fc6271ebd18>, <Element 'split_district' at 0x7fc6271ebd68>, <Element 'profile' at 0x7fc6271ebdb8>, <Element 'first_name' at 0x7fc6271ebe08>, <Element 'last_name' at 0x7fc6271ebe58>, <Element 'phone_number' at 0x7fc6271ebea8>, <Element 'email' at 0x7fc6271ebef8>, <Element 'status' at 0x7fc6271ebf98>, <Element 'created_at' at 0x7fc6271f1048>, <Element 'updated_at' at 0x7fc6271f1098>, <Element 'opted_out_at' at 0x7fc6271f10e8>, <Element 'opted_out_source' at 0x7fc6271f1138>, <Element 'source' at 0x7fc6271f1188>, <Element 'address' at 0x7fc6271f11d8>, <Element 'street1' at 0x7fc6271f1228>, <Element 'street2' at 0x7fc6271f1278>, <Element 'city' at 0x7fc6271f12c8>, <Element 'state' at 0x7fc6271f1318>, <Element 'postal_code' at 0x7fc6271f1368>, <Element 'country' at 0x7fc6271f13b8>, <Element 'location' at 0x7fc6271f1408>, <Element 'latitude' at 0x7fc6271f1458>, <Element 'longitude' at 0x7fc6271f14a8>, <Element 'precision' at 0x7fc6271f14f8>, <Element 'city' at 0x7fc6271f1548>, <Element 'state' at 0x7fc6271f1598>, <Element 'postal_code' at 0x7fc6271f15e8>, <Element 'country' at 0x7fc6271f1638>, <Element 'districts' at 0x7fc6271f1688>, <Element 'congressional_district' at 0x7fc6271f16d8>, <Element 'state_upper_district' at 0x7fc6271f1728>, <Element 'state_lower_district' at 0x7fc6271f1778>, <Element 'split_district' at 0x7fc6271f17c8>, <Element 'profile' at 0x7fc6271f1818>, <Element 'first_name' at 0x7fc6271f1868>, <Element 'last_name' at 0x7fc6271f18b8>, <Element 'phone_number' at 0x7fc6271f1908>, <Element 'email' at 0x7fc6271f1958>, <Element 'status' at 0x7fc6271f19f8>, <Element 'created_at' at 0x7fc6271f1a48>, <Element 'updated_at' at 0x7fc6271f1a98>, <Element 'opted_out_at' at 0x7fc6271f1ae8>, <Element 'opted_out_source' at 0x7fc6271f1b38>, <Element 'source' at 0x7fc6271f1b88>, <Element 'address' at 0x7fc6271f1bd8>, <Element 'street1' at 0x7fc6271f1c28>, <Element 'street2' at 0x7fc6271f1c78>, <Element 'city' at 0x7fc6271f1cc8>, <Element 'state' at 0x7fc6271f1d18>, <Element 'postal_code' at 0x7fc6271f1d68>, <Element 'country' at 0x7fc6271f1db8>, <Element 'location' at 0x7fc6271f1e08>, <Element 'latitude' at 0x7fc6271f1e58>, <Element 'longitude' at 0x7fc6271f1ea8>, <Element 'precision' at 0x7fc6271f1ef8>, <Element 'city' at 0x7fc6271f1f48>, <Element 'state' at 0x7fc6271f1f98>, <Element 'postal_code' at 0x7fc6271fe048>, <Element 'country' at 0x7fc6271fe098>, <Element 'districts' at 0x7fc6271fe0e8>, <Element 'congressional_district' at 0x7fc6271fe138>, <Element 'state_upper_district' at 0x7fc6271fe188>, <Element 'state_lower_district' at 0x7fc6271fe1d8>, <Element 'split_district' at 0x7fc6271fe228>, <Element 'profile' at 0x7fc6271fe278>, <Element 'first_name' at 0x7fc6271fe2c8>, <Element 'last_name' at 0x7fc6271fe318>, <Element 'phone_number' at 0x7fc6271fe368>, <Element 'email' at 0x7fc6271fe3b8>, <Element 'status' at 0x7fc6271fe408>, <Element 'created_at' at 0x7fc6271fe458>, <Element 'updated_at' at 0x7fc6271fe4a8>, <Element 'opted_out_at' at 0x7fc6271fe4f8>, <Element 'opted_out_source' at 0x7fc6271fe548>, <Element 'source' at 0x7fc6271fe598>, <Element 'address' at 0x7fc6271fe5e8>, <Element 'street1' at 0x7fc6271fe638>, <Element 'street2' at 0x7fc6271fe688>, <Element 'city' at 0x7fc6271fe6d8>, <Element 'state' at 0x7fc6271fe728>, <Element 'postal_code' at 0x7fc6271fe778>, <Element 'country' at 0x7fc6271fe7c8>, <Element 'location' at 0x7fc6271fe818>, <Element 'latitude' at 0x7fc6271fe868>, <Element 'longitude' at 0x7fc6271fe8b8>, <Element 'precision' at 0x7fc6271fe908>, <Element 'city' at 0x7fc6271fe958>, <Element 'state' at 0x7fc6271fe9a8>, <Element 'postal_code' at 0x7fc6271fe9f8>, <Element 'country' at 0x7fc6271fea48>, <Element 'districts' at 0x7fc6271fea98>, <Element 'congressional_district' at 0x7fc6271feae8>, <Element 'state_upper_district' at 0x7fc6271feb38>, <Element 'state_lower_district' at 0x7fc6271feb88>, <Element 'split_district' at 0x7fc6271febd8>]\n"
     ]
    }
   ],
   "source": [
    "a = tree.iterfind('profiles//')\n",
    "print(list(a))"
   ]
  },
  {
   "cell_type": "code",
   "execution_count": 90,
   "metadata": {},
   "outputs": [
    {
     "name": "stdout",
     "output_type": "stream",
     "text": [
      "OrderedDict([('response', OrderedDict([('@success', 'true'), ('profiles', OrderedDict([('@num', '10'), ('@page', '1'), ('profile', [OrderedDict([('@id', '5509211'), ('first_name', None), ('last_name', None), ('phone_number', '17407073872'), ('email', 'm@w.com'), ('status', 'Undeliverable'), ('created_at', '2009-01-22 01:23:04 UTC'), ('updated_at', '2009-12-21 09:03:06 UTC'), ('opted_out_at', '2009-12-21 09:03:06 UTC'), ('opted_out_source', 'Phone was deactivated'), ('source', OrderedDict([('@type', 'Keyword'), ('@name', 'obama'), ('@id', '21511'), ('@opt_in_path_id', '19161'), ('@message_id', '')])), ('address', OrderedDict([('street1', None), ('street2', None), ('city', 'San Francisco'), ('state', 'CA'), ('postal_code', '94110'), ('country', 'US')])), ('location', OrderedDict([('latitude', '37.748932'), ('longitude', '-122.416281'), ('precision', 'place'), ('city', 'San Francisco'), ('state', 'CA'), ('postal_code', '94110'), ('country', 'US')])), ('districts', OrderedDict([('congressional_district', 'CA-12'), ('state_upper_district', 'CA-'), ('state_lower_district', 'CA-'), ('split_district', 'No')]))]), OrderedDict([('@id', '5509361'), ('first_name', 'Heather'), ('last_name', 'Buchheim'), ('phone_number', '16502073946'), ('email', 'watershed.heather@gmail.com'), ('status', 'Active Subscriber'), ('created_at', '2009-01-22 01:39:46 UTC'), ('updated_at', '2013-02-19 20:52:19 UTC'), ('opted_out_at', None), ('opted_out_source', None), ('source', OrderedDict([('@type', 'Keyword'), ('@name', 'obama'), ('@id', '21511'), ('@opt_in_path_id', '19161'), ('@message_id', '')])), ('address', OrderedDict([('street1', '100 Bush St. Ste. 850'), ('street2', None), ('city', 'San Francisco'), ('state', 'CA'), ('postal_code', '94104-3900'), ('country', 'US')])), ('location', OrderedDict([('latitude', '37.791569'), ('longitude', '-122.399964'), ('precision', 'rooftop'), ('city', 'San Francisco'), ('state', 'CA'), ('postal_code', '94104'), ('country', 'US')])), ('districts', OrderedDict([('congressional_district', 'CA-12'), ('state_upper_district', 'CA-11'), ('state_lower_district', 'CA-17'), ('split_district', 'No')]))]), OrderedDict([('@id', '5511571'), ('first_name', None), ('last_name', None), ('phone_number', '15106846563'), ('email', 'stanionis@gmail.com'), ('status', 'Undeliverable'), ('created_at', '2009-01-22 07:19:04 UTC'), ('updated_at', '2012-11-06 17:55:04 UTC'), ('opted_out_at', '2012-11-06 17:55:04 UTC'), ('opted_out_source', 'Texted a STOP word'), ('source', OrderedDict([('@type', 'Keyword'), ('@name', 'obama'), ('@id', '21511'), ('@opt_in_path_id', '19161'), ('@message_id', '')])), ('address', OrderedDict([('street1', None), ('street2', None), ('city', 'Albany'), ('state', 'CA'), ('postal_code', '94710'), ('country', 'US')])), ('location', OrderedDict([('latitude', '37.873366'), ('longitude', '-122.30273'), ('precision', 'place'), ('city', 'Berkeley'), ('state', 'CA'), ('postal_code', '94710'), ('country', 'US')])), ('districts', OrderedDict([('congressional_district', 'CA-13'), ('state_upper_district', 'CA-'), ('state_lower_district', 'CA-'), ('split_district', 'No')]))]), OrderedDict([('@id', '5511581'), ('first_name', 'Madeline'), ('last_name', 'Stanionis'), ('phone_number', '14157861637'), ('email', 'madeline@watershedcompany.com'), ('status', 'Active Subscriber'), ('created_at', '2009-01-22 07:26:18 UTC'), ('updated_at', '2013-02-19 20:47:38 UTC'), ('opted_out_at', None), ('opted_out_source', None), ('source', OrderedDict([('@type', 'Keyword'), ('@name', 'obama'), ('@id', '21511'), ('@opt_in_path_id', '19161'), ('@message_id', '')])), ('address', OrderedDict([('street1', '1818 5th street'), ('street2', None), ('city', 'berkeley'), ('state', 'CA'), ('postal_code', '94710-1915'), ('country', 'US')])), ('location', OrderedDict([('latitude', '37.869435'), ('longitude', '-122.299687'), ('precision', 'rooftop'), ('city', 'Berkeley'), ('state', 'CA'), ('postal_code', '94710'), ('country', 'US')])), ('districts', OrderedDict([('congressional_district', 'CA-13'), ('state_upper_district', 'CA-9'), ('state_lower_district', 'CA-15'), ('split_district', 'No')]))]), OrderedDict([('@id', '5513311'), ('first_name', None), ('last_name', None), ('phone_number', '14156994474'), ('email', 'matt@mcommons.com'), ('status', 'Undeliverable'), ('created_at', '2009-01-22 17:47:11 UTC'), ('updated_at', '2010-01-28 09:02:39 UTC'), ('opted_out_at', '2010-01-28 09:02:39 UTC'), ('opted_out_source', 'Phone was deactivated'), ('source', OrderedDict([('@type', 'Opt-In Path'), ('@name', 'global gag rule'), ('@id', '19181')])), ('address', OrderedDict([('street1', None), ('street2', None), ('city', 'San Francisco'), ('state', 'CA'), ('postal_code', '94109'), ('country', 'US')])), ('location', OrderedDict([('latitude', '37.795219'), ('longitude', '-122.420782'), ('precision', 'place'), ('city', 'San Francisco'), ('state', 'CA'), ('postal_code', '94109'), ('country', 'US')])), ('districts', OrderedDict([('congressional_district', 'CA-12'), ('state_upper_district', 'CA-'), ('state_lower_district', 'CA-'), ('split_district', 'No')]))]), OrderedDict([('@id', '5514191'), ('first_name', 'Ellen'), ('last_name', 'Freytag'), ('phone_number', '14155958458'), ('email', 'ellen.freytag@ppfa.org'), ('status', 'Active Subscriber'), ('created_at', '2009-01-22 19:29:56 UTC'), ('updated_at', '2019-05-22 14:46:17 UTC'), ('opted_out_at', None), ('opted_out_source', None), ('source', OrderedDict([('@type', 'Opt-In Path'), ('@name', 'global gag rule'), ('@id', '19181')])), ('address', OrderedDict([('street1', '1773 Lanier Pl NW Apt 19'), ('street2', None), ('city', 'Washington'), ('state', 'DC'), ('postal_code', '20009'), ('country', 'US')])), ('location', OrderedDict([('latitude', '38.92452'), ('longitude', '-77.042632'), ('precision', 'rooftop'), ('city', 'Washington'), ('state', 'DC'), ('postal_code', '20009'), ('country', 'US')])), ('districts', OrderedDict([('congressional_district', 'DC-1'), ('state_upper_district', 'DC-1'), ('state_lower_district', 'DC-'), ('split_district', 'No')]))]), OrderedDict([('@id', '5515111'), ('first_name', 'Amanda'), ('last_name', 'Larkin'), ('phone_number', '14043139454'), ('email', 'frogger24@sub-par.com'), ('status', 'Undeliverable'), ('created_at', '2009-01-22 20:33:12 UTC'), ('updated_at', '2013-02-19 20:51:24 UTC'), ('opted_out_at', '2010-01-01 09:34:01 UTC'), ('opted_out_source', 'Phone was deactivated'), ('source', OrderedDict([('@type', 'Uploaded Group'), ('@name', 'ws_globalgag_012209'), ('@id', '6891')])), ('address', OrderedDict([('street1', '1823 Winchester Trail'), ('street2', None), ('city', 'Atlanta'), ('state', 'GA'), ('postal_code', '30341-1447'), ('country', 'US')])), ('location', OrderedDict([('latitude', '33.908162'), ('longitude', '-84.312857'), ('precision', 'rooftop'), ('city', 'Atlanta'), ('state', 'GA'), ('postal_code', '30341'), ('country', 'US')])), ('districts', OrderedDict([('congressional_district', 'GA-6'), ('state_upper_district', 'GA-40'), ('state_lower_district', 'GA-80'), ('split_district', 'No')]))]), OrderedDict([('@id', '5515121'), ('first_name', 'Kelly'), ('last_name', 'Bee'), ('phone_number', '12035307379'), ('email', 'kellybeehappy@hotmail.com'), ('status', 'Active Subscriber'), ('created_at', '2009-01-22 20:33:12 UTC'), ('updated_at', '2013-02-19 20:50:37 UTC'), ('opted_out_at', None), ('opted_out_source', None), ('source', OrderedDict([('@type', 'Uploaded Group'), ('@name', 'ws_globalgag_012209'), ('@id', '6891')])), ('address', OrderedDict([('street1', '20 Church Street'), ('street2', None), ('city', 'North Branford'), ('state', 'CT'), ('postal_code', '06471-1417'), ('country', 'US')])), ('location', OrderedDict([('latitude', '41.328817'), ('longitude', '-72.767545'), ('precision', 'rooftop'), ('city', 'North Branford'), ('state', 'CT'), ('postal_code', '06471'), ('country', 'US')])), ('districts', OrderedDict([('congressional_district', 'CT-3'), ('state_upper_district', 'CT-12'), ('state_lower_district', 'CT-86'), ('split_district', 'No')]))]), OrderedDict([('@id', '5515131'), ('first_name', 'Jennifer'), ('last_name', 'Olenchek'), ('phone_number', '14146903494'), ('email', 'jennifer.olenchek@ppwi.org'), ('status', 'Undeliverable'), ('created_at', '2009-01-22 20:33:12 UTC'), ('updated_at', '2018-12-14 19:37:29 UTC'), ('opted_out_at', '2018-12-14 19:37:29 UTC'), ('opted_out_source', 'Texted a STOP word'), ('source', OrderedDict([('@type', 'Uploaded Group'), ('@name', 'ws_globalgag_012209'), ('@id', '6891')])), ('address', OrderedDict([('street1', '4315 S Burrell St'), ('street2', None), ('city', 'Milwaukee'), ('state', 'WI'), ('postal_code', '53207-5021'), ('country', 'US')])), ('location', OrderedDict([('latitude', '42.966202'), ('longitude', '-87.908555'), ('precision', 'range_interpolation'), ('city', 'Milwaukee'), ('state', 'WI'), ('postal_code', '53207'), ('country', 'US')])), ('districts', OrderedDict([('congressional_district', 'WI-4'), ('state_upper_district', 'WI-7'), ('state_lower_district', 'WI-20'), ('split_district', 'No')]))]), OrderedDict([('@id', '5515141'), ('first_name', 'Ronald & Patricia'), ('last_name', 'Bern'), ('phone_number', '13522811333'), ('email', 'patbngracie@aol.com'), ('status', 'Active Subscriber'), ('created_at', '2009-01-22 20:33:12 UTC'), ('updated_at', '2018-11-03 14:17:23 UTC'), ('opted_out_at', None), ('opted_out_source', None), ('source', OrderedDict([('@type', 'Uploaded Group'), ('@name', 'ws_globalgag_012209'), ('@id', '6891')])), ('address', OrderedDict([('street1', '1301 NW 23rd Ter'), ('street2', None), ('city', 'Gainesville'), ('state', 'FL'), ('postal_code', '32605-5150'), ('country', 'US')])), ('location', OrderedDict([('latitude', '29.663464'), ('longitude', '-82.357424'), ('precision', 'rooftop'), ('city', 'Gainesville'), ('state', 'FL'), ('postal_code', '32605'), ('country', 'US')])), ('districts', OrderedDict([('congressional_district', 'FL-3'), ('state_upper_district', 'FL-8'), ('state_lower_district', 'FL-21'), ('split_district', 'No')]))])])]))]))])\n"
     ]
    }
   ],
   "source": [
    "print(data)"
   ]
  },
  {
   "cell_type": "code",
   "execution_count": 92,
   "metadata": {},
   "outputs": [
    {
     "name": "stdout",
     "output_type": "stream",
     "text": [
      "  response_@success response_profiles_@num response_profiles_@page  \\\n",
      "0              true                     10                       1   \n",
      "\n",
      "                           response_profiles_profile  \n",
      "0  [{'@id': '5509211', 'first_name': None, 'last_...  \n"
     ]
    }
   ],
   "source": [
    "data = xmltodict.parse(r.content)\n",
    "flat = json_normalize(data, sep='_')\n",
    "print(flat)"
   ]
  },
  {
   "cell_type": "code",
   "execution_count": 93,
   "metadata": {},
   "outputs": [
    {
     "ename": "KeyError",
     "evalue": "'profiles'",
     "output_type": "error",
     "traceback": [
      "\u001b[0;31m---------------------------------------------------------------------------\u001b[0m",
      "\u001b[0;31mKeyError\u001b[0m                                  Traceback (most recent call last)",
      "\u001b[0;32m<ipython-input-93-9e6d9f60ae4d>\u001b[0m in \u001b[0;36m<module>\u001b[0;34m()\u001b[0m\n\u001b[0;32m----> 1\u001b[0;31m \u001b[0mresult\u001b[0m \u001b[0;34m=\u001b[0m \u001b[0mjson_normalize\u001b[0m\u001b[0;34m(\u001b[0m\u001b[0mdata\u001b[0m\u001b[0;34m,\u001b[0m \u001b[0;34m'profiles'\u001b[0m\u001b[0;34m)\u001b[0m\u001b[0;34m\u001b[0m\u001b[0;34m\u001b[0m\u001b[0m\n\u001b[0m\u001b[1;32m      2\u001b[0m \u001b[0mprint\u001b[0m\u001b[0;34m(\u001b[0m\u001b[0mresult\u001b[0m\u001b[0;34m)\u001b[0m\u001b[0;34m\u001b[0m\u001b[0;34m\u001b[0m\u001b[0m\n",
      "\u001b[0;32m/opt/conda/lib/python3.7/site-packages/pandas/io/json/normalize.py\u001b[0m in \u001b[0;36mjson_normalize\u001b[0;34m(data, record_path, meta, meta_prefix, record_prefix, errors, sep)\u001b[0m\n\u001b[1;32m    265\u001b[0m                 \u001b[0mrecords\u001b[0m\u001b[0;34m.\u001b[0m\u001b[0mextend\u001b[0m\u001b[0;34m(\u001b[0m\u001b[0mrecs\u001b[0m\u001b[0;34m)\u001b[0m\u001b[0;34m\u001b[0m\u001b[0;34m\u001b[0m\u001b[0m\n\u001b[1;32m    266\u001b[0m \u001b[0;34m\u001b[0m\u001b[0m\n\u001b[0;32m--> 267\u001b[0;31m     \u001b[0m_recursive_extract\u001b[0m\u001b[0;34m(\u001b[0m\u001b[0mdata\u001b[0m\u001b[0;34m,\u001b[0m \u001b[0mrecord_path\u001b[0m\u001b[0;34m,\u001b[0m \u001b[0;34m{\u001b[0m\u001b[0;34m}\u001b[0m\u001b[0;34m,\u001b[0m \u001b[0mlevel\u001b[0m\u001b[0;34m=\u001b[0m\u001b[0;36m0\u001b[0m\u001b[0;34m)\u001b[0m\u001b[0;34m\u001b[0m\u001b[0;34m\u001b[0m\u001b[0m\n\u001b[0m\u001b[1;32m    268\u001b[0m \u001b[0;34m\u001b[0m\u001b[0m\n\u001b[1;32m    269\u001b[0m     \u001b[0mresult\u001b[0m \u001b[0;34m=\u001b[0m \u001b[0mDataFrame\u001b[0m\u001b[0;34m(\u001b[0m\u001b[0mrecords\u001b[0m\u001b[0;34m)\u001b[0m\u001b[0;34m\u001b[0m\u001b[0;34m\u001b[0m\u001b[0m\n",
      "\u001b[0;32m/opt/conda/lib/python3.7/site-packages/pandas/io/json/normalize.py\u001b[0m in \u001b[0;36m_recursive_extract\u001b[0;34m(data, path, seen_meta, level)\u001b[0m\n\u001b[1;32m    242\u001b[0m         \u001b[0;32melse\u001b[0m\u001b[0;34m:\u001b[0m\u001b[0;34m\u001b[0m\u001b[0;34m\u001b[0m\u001b[0m\n\u001b[1;32m    243\u001b[0m             \u001b[0;32mfor\u001b[0m \u001b[0mobj\u001b[0m \u001b[0;32min\u001b[0m \u001b[0mdata\u001b[0m\u001b[0;34m:\u001b[0m\u001b[0;34m\u001b[0m\u001b[0;34m\u001b[0m\u001b[0m\n\u001b[0;32m--> 244\u001b[0;31m                 \u001b[0mrecs\u001b[0m \u001b[0;34m=\u001b[0m \u001b[0m_pull_field\u001b[0m\u001b[0;34m(\u001b[0m\u001b[0mobj\u001b[0m\u001b[0;34m,\u001b[0m \u001b[0mpath\u001b[0m\u001b[0;34m[\u001b[0m\u001b[0;36m0\u001b[0m\u001b[0;34m]\u001b[0m\u001b[0;34m)\u001b[0m\u001b[0;34m\u001b[0m\u001b[0;34m\u001b[0m\u001b[0m\n\u001b[0m\u001b[1;32m    245\u001b[0m \u001b[0;34m\u001b[0m\u001b[0m\n\u001b[1;32m    246\u001b[0m                 \u001b[0;31m# For repeating the metadata later\u001b[0m\u001b[0;34m\u001b[0m\u001b[0;34m\u001b[0m\u001b[0;34m\u001b[0m\u001b[0m\n",
      "\u001b[0;32m/opt/conda/lib/python3.7/site-packages/pandas/io/json/normalize.py\u001b[0m in \u001b[0;36m_pull_field\u001b[0;34m(js, spec)\u001b[0m\n\u001b[1;32m    187\u001b[0m                 \u001b[0mresult\u001b[0m \u001b[0;34m=\u001b[0m \u001b[0mresult\u001b[0m\u001b[0;34m[\u001b[0m\u001b[0mfield\u001b[0m\u001b[0;34m]\u001b[0m\u001b[0;34m\u001b[0m\u001b[0;34m\u001b[0m\u001b[0m\n\u001b[1;32m    188\u001b[0m         \u001b[0;32melse\u001b[0m\u001b[0;34m:\u001b[0m\u001b[0;34m\u001b[0m\u001b[0;34m\u001b[0m\u001b[0m\n\u001b[0;32m--> 189\u001b[0;31m             \u001b[0mresult\u001b[0m \u001b[0;34m=\u001b[0m \u001b[0mresult\u001b[0m\u001b[0;34m[\u001b[0m\u001b[0mspec\u001b[0m\u001b[0;34m]\u001b[0m\u001b[0;34m\u001b[0m\u001b[0;34m\u001b[0m\u001b[0m\n\u001b[0m\u001b[1;32m    190\u001b[0m \u001b[0;34m\u001b[0m\u001b[0m\n\u001b[1;32m    191\u001b[0m         \u001b[0;32mreturn\u001b[0m \u001b[0mresult\u001b[0m\u001b[0;34m\u001b[0m\u001b[0;34m\u001b[0m\u001b[0m\n",
      "\u001b[0;31mKeyError\u001b[0m: 'profiles'"
     ]
    }
   ],
   "source": [
    "result = json_normalize(data, 'profiles')\n",
    "print(result)"
   ]
  },
  {
   "cell_type": "code",
   "execution_count": 99,
   "metadata": {},
   "outputs": [
    {
     "ename": "KeyError",
     "evalue": "1",
     "output_type": "error",
     "traceback": [
      "\u001b[0;31m---------------------------------------------------------------------------\u001b[0m",
      "\u001b[0;31mKeyError\u001b[0m                                  Traceback (most recent call last)",
      "\u001b[0;32m<ipython-input-99-b4c548c9290e>\u001b[0m in \u001b[0;36m<module>\u001b[0;34m()\u001b[0m\n\u001b[0;32m----> 1\u001b[0;31m \u001b[0mresult\u001b[0m \u001b[0;34m=\u001b[0m \u001b[0mjson_normalize\u001b[0m\u001b[0;34m(\u001b[0m\u001b[0mdata\u001b[0m\u001b[0;34m[\u001b[0m\u001b[0;36m1\u001b[0m\u001b[0;34m]\u001b[0m\u001b[0;34m,\u001b[0m \u001b[0;34m'profiles'\u001b[0m\u001b[0;34m)\u001b[0m\u001b[0;34m\u001b[0m\u001b[0;34m\u001b[0m\u001b[0m\n\u001b[0m\u001b[1;32m      2\u001b[0m \u001b[0mprint\u001b[0m\u001b[0;34m(\u001b[0m\u001b[0mresult\u001b[0m\u001b[0;34m)\u001b[0m\u001b[0;34m\u001b[0m\u001b[0;34m\u001b[0m\u001b[0m\n",
      "\u001b[0;31mKeyError\u001b[0m: 1"
     ]
    }
   ],
   "source": [
    "result = json_normalize(data[1], 'profiles')\n",
    "print(result)"
   ]
  },
  {
   "cell_type": "code",
   "execution_count": 101,
   "metadata": {},
   "outputs": [
    {
     "name": "stdout",
     "output_type": "stream",
     "text": [
      "[{'': 'response'}]\n"
     ]
    }
   ],
   "source": [
    "def flatten_dict(dd, separator='_', prefix=''):\n",
    "    return { prefix + separator + k if prefix else k : v\n",
    "             for kk, vv in dd.items()\n",
    "             for k, v in flatten_dict(vv, separator, kk).items()\n",
    "             } if isinstance(dd, dict) else { prefix : dd }\n",
    "\n",
    "flattened_doc = [flatten_dict(x) for x in data]\n",
    "print(flattened_doc)"
   ]
  },
  {
   "cell_type": "code",
   "execution_count": 105,
   "metadata": {},
   "outputs": [
    {
     "name": "stdout",
     "output_type": "stream",
     "text": [
      "[{'': '@num'}, {'': '@page'}, {'': 'profile'}]\n"
     ]
    }
   ],
   "source": [
    "def flatten_dict(dd, separator='_', prefix=''):\n",
    "    return { prefix + separator + k if prefix else k : v\n",
    "             for kk, vv in dd.items()\n",
    "             for k, v in flatten_dict(vv, separator, kk).items()\n",
    "             } if isinstance(dd, dict) else { prefix : dd }\n",
    "\n",
    "flattened_doc = [flatten_dict(x) for x in data['response']['profiles']]\n",
    "print(flattened_doc)"
   ]
  },
  {
   "cell_type": "code",
   "execution_count": 106,
   "metadata": {},
   "outputs": [
    {
     "name": "stdout",
     "output_type": "stream",
     "text": [
      "[{'@id': '5509211', 'first_name': None, 'last_name': None, 'phone_number': '17407073872', 'email': 'm@w.com', 'status': 'Undeliverable', 'created_at': '2009-01-22 01:23:04 UTC', 'updated_at': '2009-12-21 09:03:06 UTC', 'opted_out_at': '2009-12-21 09:03:06 UTC', 'opted_out_source': 'Phone was deactivated', 'source_@type': 'Keyword', 'source_@name': 'obama', 'source_@id': '21511', 'source_@opt_in_path_id': '19161', 'source_@message_id': '', 'address_street1': None, 'address_street2': None, 'address_city': 'San Francisco', 'address_state': 'CA', 'address_postal_code': '94110', 'address_country': 'US', 'location_latitude': '37.748932', 'location_longitude': '-122.416281', 'location_precision': 'place', 'location_city': 'San Francisco', 'location_state': 'CA', 'location_postal_code': '94110', 'location_country': 'US', 'districts_congressional_district': 'CA-12', 'districts_state_upper_district': 'CA-', 'districts_state_lower_district': 'CA-', 'districts_split_district': 'No'}, {'@id': '5509361', 'first_name': 'Heather', 'last_name': 'Buchheim', 'phone_number': '16502073946', 'email': 'watershed.heather@gmail.com', 'status': 'Active Subscriber', 'created_at': '2009-01-22 01:39:46 UTC', 'updated_at': '2013-02-19 20:52:19 UTC', 'opted_out_at': None, 'opted_out_source': None, 'source_@type': 'Keyword', 'source_@name': 'obama', 'source_@id': '21511', 'source_@opt_in_path_id': '19161', 'source_@message_id': '', 'address_street1': '100 Bush St. Ste. 850', 'address_street2': None, 'address_city': 'San Francisco', 'address_state': 'CA', 'address_postal_code': '94104-3900', 'address_country': 'US', 'location_latitude': '37.791569', 'location_longitude': '-122.399964', 'location_precision': 'rooftop', 'location_city': 'San Francisco', 'location_state': 'CA', 'location_postal_code': '94104', 'location_country': 'US', 'districts_congressional_district': 'CA-12', 'districts_state_upper_district': 'CA-11', 'districts_state_lower_district': 'CA-17', 'districts_split_district': 'No'}, {'@id': '5511571', 'first_name': None, 'last_name': None, 'phone_number': '15106846563', 'email': 'stanionis@gmail.com', 'status': 'Undeliverable', 'created_at': '2009-01-22 07:19:04 UTC', 'updated_at': '2012-11-06 17:55:04 UTC', 'opted_out_at': '2012-11-06 17:55:04 UTC', 'opted_out_source': 'Texted a STOP word', 'source_@type': 'Keyword', 'source_@name': 'obama', 'source_@id': '21511', 'source_@opt_in_path_id': '19161', 'source_@message_id': '', 'address_street1': None, 'address_street2': None, 'address_city': 'Albany', 'address_state': 'CA', 'address_postal_code': '94710', 'address_country': 'US', 'location_latitude': '37.873366', 'location_longitude': '-122.30273', 'location_precision': 'place', 'location_city': 'Berkeley', 'location_state': 'CA', 'location_postal_code': '94710', 'location_country': 'US', 'districts_congressional_district': 'CA-13', 'districts_state_upper_district': 'CA-', 'districts_state_lower_district': 'CA-', 'districts_split_district': 'No'}, {'@id': '5511581', 'first_name': 'Madeline', 'last_name': 'Stanionis', 'phone_number': '14157861637', 'email': 'madeline@watershedcompany.com', 'status': 'Active Subscriber', 'created_at': '2009-01-22 07:26:18 UTC', 'updated_at': '2013-02-19 20:47:38 UTC', 'opted_out_at': None, 'opted_out_source': None, 'source_@type': 'Keyword', 'source_@name': 'obama', 'source_@id': '21511', 'source_@opt_in_path_id': '19161', 'source_@message_id': '', 'address_street1': '1818 5th street', 'address_street2': None, 'address_city': 'berkeley', 'address_state': 'CA', 'address_postal_code': '94710-1915', 'address_country': 'US', 'location_latitude': '37.869435', 'location_longitude': '-122.299687', 'location_precision': 'rooftop', 'location_city': 'Berkeley', 'location_state': 'CA', 'location_postal_code': '94710', 'location_country': 'US', 'districts_congressional_district': 'CA-13', 'districts_state_upper_district': 'CA-9', 'districts_state_lower_district': 'CA-15', 'districts_split_district': 'No'}, {'@id': '5513311', 'first_name': None, 'last_name': None, 'phone_number': '14156994474', 'email': 'matt@mcommons.com', 'status': 'Undeliverable', 'created_at': '2009-01-22 17:47:11 UTC', 'updated_at': '2010-01-28 09:02:39 UTC', 'opted_out_at': '2010-01-28 09:02:39 UTC', 'opted_out_source': 'Phone was deactivated', 'source_@type': 'Opt-In Path', 'source_@name': 'global gag rule', 'source_@id': '19181', 'address_street1': None, 'address_street2': None, 'address_city': 'San Francisco', 'address_state': 'CA', 'address_postal_code': '94109', 'address_country': 'US', 'location_latitude': '37.795219', 'location_longitude': '-122.420782', 'location_precision': 'place', 'location_city': 'San Francisco', 'location_state': 'CA', 'location_postal_code': '94109', 'location_country': 'US', 'districts_congressional_district': 'CA-12', 'districts_state_upper_district': 'CA-', 'districts_state_lower_district': 'CA-', 'districts_split_district': 'No'}, {'@id': '5514191', 'first_name': 'Ellen', 'last_name': 'Freytag', 'phone_number': '14155958458', 'email': 'ellen.freytag@ppfa.org', 'status': 'Active Subscriber', 'created_at': '2009-01-22 19:29:56 UTC', 'updated_at': '2019-05-22 14:46:17 UTC', 'opted_out_at': None, 'opted_out_source': None, 'source_@type': 'Opt-In Path', 'source_@name': 'global gag rule', 'source_@id': '19181', 'address_street1': '1773 Lanier Pl NW Apt 19', 'address_street2': None, 'address_city': 'Washington', 'address_state': 'DC', 'address_postal_code': '20009', 'address_country': 'US', 'location_latitude': '38.92452', 'location_longitude': '-77.042632', 'location_precision': 'rooftop', 'location_city': 'Washington', 'location_state': 'DC', 'location_postal_code': '20009', 'location_country': 'US', 'districts_congressional_district': 'DC-1', 'districts_state_upper_district': 'DC-1', 'districts_state_lower_district': 'DC-', 'districts_split_district': 'No'}, {'@id': '5515111', 'first_name': 'Amanda', 'last_name': 'Larkin', 'phone_number': '14043139454', 'email': 'frogger24@sub-par.com', 'status': 'Undeliverable', 'created_at': '2009-01-22 20:33:12 UTC', 'updated_at': '2013-02-19 20:51:24 UTC', 'opted_out_at': '2010-01-01 09:34:01 UTC', 'opted_out_source': 'Phone was deactivated', 'source_@type': 'Uploaded Group', 'source_@name': 'ws_globalgag_012209', 'source_@id': '6891', 'address_street1': '1823 Winchester Trail', 'address_street2': None, 'address_city': 'Atlanta', 'address_state': 'GA', 'address_postal_code': '30341-1447', 'address_country': 'US', 'location_latitude': '33.908162', 'location_longitude': '-84.312857', 'location_precision': 'rooftop', 'location_city': 'Atlanta', 'location_state': 'GA', 'location_postal_code': '30341', 'location_country': 'US', 'districts_congressional_district': 'GA-6', 'districts_state_upper_district': 'GA-40', 'districts_state_lower_district': 'GA-80', 'districts_split_district': 'No'}, {'@id': '5515121', 'first_name': 'Kelly', 'last_name': 'Bee', 'phone_number': '12035307379', 'email': 'kellybeehappy@hotmail.com', 'status': 'Active Subscriber', 'created_at': '2009-01-22 20:33:12 UTC', 'updated_at': '2013-02-19 20:50:37 UTC', 'opted_out_at': None, 'opted_out_source': None, 'source_@type': 'Uploaded Group', 'source_@name': 'ws_globalgag_012209', 'source_@id': '6891', 'address_street1': '20 Church Street', 'address_street2': None, 'address_city': 'North Branford', 'address_state': 'CT', 'address_postal_code': '06471-1417', 'address_country': 'US', 'location_latitude': '41.328817', 'location_longitude': '-72.767545', 'location_precision': 'rooftop', 'location_city': 'North Branford', 'location_state': 'CT', 'location_postal_code': '06471', 'location_country': 'US', 'districts_congressional_district': 'CT-3', 'districts_state_upper_district': 'CT-12', 'districts_state_lower_district': 'CT-86', 'districts_split_district': 'No'}, {'@id': '5515131', 'first_name': 'Jennifer', 'last_name': 'Olenchek', 'phone_number': '14146903494', 'email': 'jennifer.olenchek@ppwi.org', 'status': 'Undeliverable', 'created_at': '2009-01-22 20:33:12 UTC', 'updated_at': '2018-12-14 19:37:29 UTC', 'opted_out_at': '2018-12-14 19:37:29 UTC', 'opted_out_source': 'Texted a STOP word', 'source_@type': 'Uploaded Group', 'source_@name': 'ws_globalgag_012209', 'source_@id': '6891', 'address_street1': '4315 S Burrell St', 'address_street2': None, 'address_city': 'Milwaukee', 'address_state': 'WI', 'address_postal_code': '53207-5021', 'address_country': 'US', 'location_latitude': '42.966202', 'location_longitude': '-87.908555', 'location_precision': 'range_interpolation', 'location_city': 'Milwaukee', 'location_state': 'WI', 'location_postal_code': '53207', 'location_country': 'US', 'districts_congressional_district': 'WI-4', 'districts_state_upper_district': 'WI-7', 'districts_state_lower_district': 'WI-20', 'districts_split_district': 'No'}, {'@id': '5515141', 'first_name': 'Ronald & Patricia', 'last_name': 'Bern', 'phone_number': '13522811333', 'email': 'patbngracie@aol.com', 'status': 'Active Subscriber', 'created_at': '2009-01-22 20:33:12 UTC', 'updated_at': '2018-11-03 14:17:23 UTC', 'opted_out_at': None, 'opted_out_source': None, 'source_@type': 'Uploaded Group', 'source_@name': 'ws_globalgag_012209', 'source_@id': '6891', 'address_street1': '1301 NW 23rd Ter', 'address_street2': None, 'address_city': 'Gainesville', 'address_state': 'FL', 'address_postal_code': '32605-5150', 'address_country': 'US', 'location_latitude': '29.663464', 'location_longitude': '-82.357424', 'location_precision': 'rooftop', 'location_city': 'Gainesville', 'location_state': 'FL', 'location_postal_code': '32605', 'location_country': 'US', 'districts_congressional_district': 'FL-3', 'districts_state_upper_district': 'FL-8', 'districts_state_lower_district': 'FL-21', 'districts_split_district': 'No'}]\n"
     ]
    }
   ],
   "source": [
    "def flatten_dict(dd, separator='_', prefix=''):\n",
    "    return { prefix + separator + k if prefix else k : v\n",
    "             for kk, vv in dd.items()\n",
    "             for k, v in flatten_dict(vv, separator, kk).items()\n",
    "             } if isinstance(dd, dict) else { prefix : dd }\n",
    "\n",
    "flattened_doc = [flatten_dict(x) for x in data['response']['profiles']['profile']]\n",
    "print(flattened_doc)"
   ]
  },
  {
   "cell_type": "code",
   "execution_count": 107,
   "metadata": {},
   "outputs": [
    {
     "name": "stdout",
     "output_type": "stream",
     "text": [
      "[{'id': '5509211', 'first_name': None, 'last_name': None, 'phone_number': '17407073872', 'email': 'm@w.com', 'status': 'Undeliverable', 'created_at': '2009-01-22 01:23:04 UTC', 'updated_at': '2009-12-21 09:03:06 UTC', 'opted_out_at': '2009-12-21 09:03:06 UTC', 'opted_out_source': 'Phone was deactivated', 'source_type': 'Keyword', 'source_name': 'obama', 'source_id': '21511', 'source_opt_in_path_id': '19161', 'source_message_id': '', 'address_street1': None, 'address_street2': None, 'address_city': 'San Francisco', 'address_state': 'CA', 'address_postal_code': '94110', 'address_country': 'US', 'location_latitude': '37.748932', 'location_longitude': '-122.416281', 'location_precision': 'place', 'location_city': 'San Francisco', 'location_state': 'CA', 'location_postal_code': '94110', 'location_country': 'US', 'districts_congressional_district': 'CA-12', 'districts_state_upper_district': 'CA-', 'districts_state_lower_district': 'CA-', 'districts_split_district': 'No'}, {'id': '5509361', 'first_name': 'Heather', 'last_name': 'Buchheim', 'phone_number': '16502073946', 'email': 'watershed.heather@gmail.com', 'status': 'Active Subscriber', 'created_at': '2009-01-22 01:39:46 UTC', 'updated_at': '2013-02-19 20:52:19 UTC', 'opted_out_at': None, 'opted_out_source': None, 'source_type': 'Keyword', 'source_name': 'obama', 'source_id': '21511', 'source_opt_in_path_id': '19161', 'source_message_id': '', 'address_street1': '100 Bush St. Ste. 850', 'address_street2': None, 'address_city': 'San Francisco', 'address_state': 'CA', 'address_postal_code': '94104-3900', 'address_country': 'US', 'location_latitude': '37.791569', 'location_longitude': '-122.399964', 'location_precision': 'rooftop', 'location_city': 'San Francisco', 'location_state': 'CA', 'location_postal_code': '94104', 'location_country': 'US', 'districts_congressional_district': 'CA-12', 'districts_state_upper_district': 'CA-11', 'districts_state_lower_district': 'CA-17', 'districts_split_district': 'No'}, {'id': '5511571', 'first_name': None, 'last_name': None, 'phone_number': '15106846563', 'email': 'stanionis@gmail.com', 'status': 'Undeliverable', 'created_at': '2009-01-22 07:19:04 UTC', 'updated_at': '2012-11-06 17:55:04 UTC', 'opted_out_at': '2012-11-06 17:55:04 UTC', 'opted_out_source': 'Texted a STOP word', 'source_type': 'Keyword', 'source_name': 'obama', 'source_id': '21511', 'source_opt_in_path_id': '19161', 'source_message_id': '', 'address_street1': None, 'address_street2': None, 'address_city': 'Albany', 'address_state': 'CA', 'address_postal_code': '94710', 'address_country': 'US', 'location_latitude': '37.873366', 'location_longitude': '-122.30273', 'location_precision': 'place', 'location_city': 'Berkeley', 'location_state': 'CA', 'location_postal_code': '94710', 'location_country': 'US', 'districts_congressional_district': 'CA-13', 'districts_state_upper_district': 'CA-', 'districts_state_lower_district': 'CA-', 'districts_split_district': 'No'}, {'id': '5511581', 'first_name': 'Madeline', 'last_name': 'Stanionis', 'phone_number': '14157861637', 'email': 'madeline@watershedcompany.com', 'status': 'Active Subscriber', 'created_at': '2009-01-22 07:26:18 UTC', 'updated_at': '2013-02-19 20:47:38 UTC', 'opted_out_at': None, 'opted_out_source': None, 'source_type': 'Keyword', 'source_name': 'obama', 'source_id': '21511', 'source_opt_in_path_id': '19161', 'source_message_id': '', 'address_street1': '1818 5th street', 'address_street2': None, 'address_city': 'berkeley', 'address_state': 'CA', 'address_postal_code': '94710-1915', 'address_country': 'US', 'location_latitude': '37.869435', 'location_longitude': '-122.299687', 'location_precision': 'rooftop', 'location_city': 'Berkeley', 'location_state': 'CA', 'location_postal_code': '94710', 'location_country': 'US', 'districts_congressional_district': 'CA-13', 'districts_state_upper_district': 'CA-9', 'districts_state_lower_district': 'CA-15', 'districts_split_district': 'No'}, {'id': '5513311', 'first_name': None, 'last_name': None, 'phone_number': '14156994474', 'email': 'matt@mcommons.com', 'status': 'Undeliverable', 'created_at': '2009-01-22 17:47:11 UTC', 'updated_at': '2010-01-28 09:02:39 UTC', 'opted_out_at': '2010-01-28 09:02:39 UTC', 'opted_out_source': 'Phone was deactivated', 'source_type': 'Opt-In Path', 'source_name': 'global gag rule', 'source_id': '19181', 'address_street1': None, 'address_street2': None, 'address_city': 'San Francisco', 'address_state': 'CA', 'address_postal_code': '94109', 'address_country': 'US', 'location_latitude': '37.795219', 'location_longitude': '-122.420782', 'location_precision': 'place', 'location_city': 'San Francisco', 'location_state': 'CA', 'location_postal_code': '94109', 'location_country': 'US', 'districts_congressional_district': 'CA-12', 'districts_state_upper_district': 'CA-', 'districts_state_lower_district': 'CA-', 'districts_split_district': 'No'}, {'id': '5514191', 'first_name': 'Ellen', 'last_name': 'Freytag', 'phone_number': '14155958458', 'email': 'ellen.freytag@ppfa.org', 'status': 'Active Subscriber', 'created_at': '2009-01-22 19:29:56 UTC', 'updated_at': '2019-05-22 14:46:17 UTC', 'opted_out_at': None, 'opted_out_source': None, 'source_type': 'Opt-In Path', 'source_name': 'global gag rule', 'source_id': '19181', 'address_street1': '1773 Lanier Pl NW Apt 19', 'address_street2': None, 'address_city': 'Washington', 'address_state': 'DC', 'address_postal_code': '20009', 'address_country': 'US', 'location_latitude': '38.92452', 'location_longitude': '-77.042632', 'location_precision': 'rooftop', 'location_city': 'Washington', 'location_state': 'DC', 'location_postal_code': '20009', 'location_country': 'US', 'districts_congressional_district': 'DC-1', 'districts_state_upper_district': 'DC-1', 'districts_state_lower_district': 'DC-', 'districts_split_district': 'No'}, {'id': '5515111', 'first_name': 'Amanda', 'last_name': 'Larkin', 'phone_number': '14043139454', 'email': 'frogger24@sub-par.com', 'status': 'Undeliverable', 'created_at': '2009-01-22 20:33:12 UTC', 'updated_at': '2013-02-19 20:51:24 UTC', 'opted_out_at': '2010-01-01 09:34:01 UTC', 'opted_out_source': 'Phone was deactivated', 'source_type': 'Uploaded Group', 'source_name': 'ws_globalgag_012209', 'source_id': '6891', 'address_street1': '1823 Winchester Trail', 'address_street2': None, 'address_city': 'Atlanta', 'address_state': 'GA', 'address_postal_code': '30341-1447', 'address_country': 'US', 'location_latitude': '33.908162', 'location_longitude': '-84.312857', 'location_precision': 'rooftop', 'location_city': 'Atlanta', 'location_state': 'GA', 'location_postal_code': '30341', 'location_country': 'US', 'districts_congressional_district': 'GA-6', 'districts_state_upper_district': 'GA-40', 'districts_state_lower_district': 'GA-80', 'districts_split_district': 'No'}, {'id': '5515121', 'first_name': 'Kelly', 'last_name': 'Bee', 'phone_number': '12035307379', 'email': 'kellybeehappy@hotmail.com', 'status': 'Active Subscriber', 'created_at': '2009-01-22 20:33:12 UTC', 'updated_at': '2013-02-19 20:50:37 UTC', 'opted_out_at': None, 'opted_out_source': None, 'source_type': 'Uploaded Group', 'source_name': 'ws_globalgag_012209', 'source_id': '6891', 'address_street1': '20 Church Street', 'address_street2': None, 'address_city': 'North Branford', 'address_state': 'CT', 'address_postal_code': '06471-1417', 'address_country': 'US', 'location_latitude': '41.328817', 'location_longitude': '-72.767545', 'location_precision': 'rooftop', 'location_city': 'North Branford', 'location_state': 'CT', 'location_postal_code': '06471', 'location_country': 'US', 'districts_congressional_district': 'CT-3', 'districts_state_upper_district': 'CT-12', 'districts_state_lower_district': 'CT-86', 'districts_split_district': 'No'}, {'id': '5515131', 'first_name': 'Jennifer', 'last_name': 'Olenchek', 'phone_number': '14146903494', 'email': 'jennifer.olenchek@ppwi.org', 'status': 'Undeliverable', 'created_at': '2009-01-22 20:33:12 UTC', 'updated_at': '2018-12-14 19:37:29 UTC', 'opted_out_at': '2018-12-14 19:37:29 UTC', 'opted_out_source': 'Texted a STOP word', 'source_type': 'Uploaded Group', 'source_name': 'ws_globalgag_012209', 'source_id': '6891', 'address_street1': '4315 S Burrell St', 'address_street2': None, 'address_city': 'Milwaukee', 'address_state': 'WI', 'address_postal_code': '53207-5021', 'address_country': 'US', 'location_latitude': '42.966202', 'location_longitude': '-87.908555', 'location_precision': 'range_interpolation', 'location_city': 'Milwaukee', 'location_state': 'WI', 'location_postal_code': '53207', 'location_country': 'US', 'districts_congressional_district': 'WI-4', 'districts_state_upper_district': 'WI-7', 'districts_state_lower_district': 'WI-20', 'districts_split_district': 'No'}, {'id': '5515141', 'first_name': 'Ronald & Patricia', 'last_name': 'Bern', 'phone_number': '13522811333', 'email': 'patbngracie@aol.com', 'status': 'Active Subscriber', 'created_at': '2009-01-22 20:33:12 UTC', 'updated_at': '2018-11-03 14:17:23 UTC', 'opted_out_at': None, 'opted_out_source': None, 'source_type': 'Uploaded Group', 'source_name': 'ws_globalgag_012209', 'source_id': '6891', 'address_street1': '1301 NW 23rd Ter', 'address_street2': None, 'address_city': 'Gainesville', 'address_state': 'FL', 'address_postal_code': '32605-5150', 'address_country': 'US', 'location_latitude': '29.663464', 'location_longitude': '-82.357424', 'location_precision': 'rooftop', 'location_city': 'Gainesville', 'location_state': 'FL', 'location_postal_code': '32605', 'location_country': 'US', 'districts_congressional_district': 'FL-3', 'districts_state_upper_district': 'FL-8', 'districts_state_lower_district': 'FL-21', 'districts_split_district': 'No'}]\n"
     ]
    }
   ],
   "source": [
    "data = xmltodict.parse(r.content, attr_prefix='')\n",
    "\n",
    "def flatten_dict(dd, separator='_', prefix=''):\n",
    "    return { prefix + separator + k if prefix else k : v\n",
    "             for kk, vv in dd.items()\n",
    "             for k, v in flatten_dict(vv, separator, kk).items()\n",
    "             } if isinstance(dd, dict) else { prefix : dd }\n",
    "\n",
    "flat = [flatten_dict(x) for x in data['response']['profiles']['profile']]\n",
    "print(flat)"
   ]
  },
  {
   "cell_type": "code",
   "execution_count": null,
   "metadata": {},
   "outputs": [],
   "source": []
  },
  {
   "cell_type": "code",
   "execution_count": 108,
   "metadata": {},
   "outputs": [
    {
     "name": "stdout",
     "output_type": "stream",
     "text": [
      "     address_city address_country address_postal_code address_state  \\\n",
      "0   San Francisco              US               94110            CA   \n",
      "1   San Francisco              US          94104-3900            CA   \n",
      "2          Albany              US               94710            CA   \n",
      "3        berkeley              US          94710-1915            CA   \n",
      "4   San Francisco              US               94109            CA   \n",
      "5      Washington              US               20009            DC   \n",
      "6         Atlanta              US          30341-1447            GA   \n",
      "7  North Branford              US          06471-1417            CT   \n",
      "8       Milwaukee              US          53207-5021            WI   \n",
      "9     Gainesville              US          32605-5150            FL   \n",
      "\n",
      "            address_street1 address_street2               created_at  \\\n",
      "0                      None            None  2009-01-22 01:23:04 UTC   \n",
      "1     100 Bush St. Ste. 850            None  2009-01-22 01:39:46 UTC   \n",
      "2                      None            None  2009-01-22 07:19:04 UTC   \n",
      "3           1818 5th street            None  2009-01-22 07:26:18 UTC   \n",
      "4                      None            None  2009-01-22 17:47:11 UTC   \n",
      "5  1773 Lanier Pl NW Apt 19            None  2009-01-22 19:29:56 UTC   \n",
      "6     1823 Winchester Trail            None  2009-01-22 20:33:12 UTC   \n",
      "7          20 Church Street            None  2009-01-22 20:33:12 UTC   \n",
      "8         4315 S Burrell St            None  2009-01-22 20:33:12 UTC   \n",
      "9          1301 NW 23rd Ter            None  2009-01-22 20:33:12 UTC   \n",
      "\n",
      "  districts_congressional_district districts_split_district  \\\n",
      "0                            CA-12                       No   \n",
      "1                            CA-12                       No   \n",
      "2                            CA-13                       No   \n",
      "3                            CA-13                       No   \n",
      "4                            CA-12                       No   \n",
      "5                             DC-1                       No   \n",
      "6                             GA-6                       No   \n",
      "7                             CT-3                       No   \n",
      "8                             WI-4                       No   \n",
      "9                             FL-3                       No   \n",
      "\n",
      "  districts_state_lower_district  ...             opted_out_at  \\\n",
      "0                            CA-  ...  2009-12-21 09:03:06 UTC   \n",
      "1                          CA-17  ...                     None   \n",
      "2                            CA-  ...  2012-11-06 17:55:04 UTC   \n",
      "3                          CA-15  ...                     None   \n",
      "4                            CA-  ...  2010-01-28 09:02:39 UTC   \n",
      "5                            DC-  ...                     None   \n",
      "6                          GA-80  ...  2010-01-01 09:34:01 UTC   \n",
      "7                          CT-86  ...                     None   \n",
      "8                          WI-20  ...  2018-12-14 19:37:29 UTC   \n",
      "9                          FL-21  ...                     None   \n",
      "\n",
      "        opted_out_source phone_number source_id source_message_id  \\\n",
      "0  Phone was deactivated  17407073872     21511                     \n",
      "1                   None  16502073946     21511                     \n",
      "2     Texted a STOP word  15106846563     21511                     \n",
      "3                   None  14157861637     21511                     \n",
      "4  Phone was deactivated  14156994474     19181               NaN   \n",
      "5                   None  14155958458     19181               NaN   \n",
      "6  Phone was deactivated  14043139454      6891               NaN   \n",
      "7                   None  12035307379      6891               NaN   \n",
      "8     Texted a STOP word  14146903494      6891               NaN   \n",
      "9                   None  13522811333      6891               NaN   \n",
      "\n",
      "           source_name source_opt_in_path_id     source_type  \\\n",
      "0                obama                 19161         Keyword   \n",
      "1                obama                 19161         Keyword   \n",
      "2                obama                 19161         Keyword   \n",
      "3                obama                 19161         Keyword   \n",
      "4      global gag rule                   NaN     Opt-In Path   \n",
      "5      global gag rule                   NaN     Opt-In Path   \n",
      "6  ws_globalgag_012209                   NaN  Uploaded Group   \n",
      "7  ws_globalgag_012209                   NaN  Uploaded Group   \n",
      "8  ws_globalgag_012209                   NaN  Uploaded Group   \n",
      "9  ws_globalgag_012209                   NaN  Uploaded Group   \n",
      "\n",
      "              status               updated_at  \n",
      "0      Undeliverable  2009-12-21 09:03:06 UTC  \n",
      "1  Active Subscriber  2013-02-19 20:52:19 UTC  \n",
      "2      Undeliverable  2012-11-06 17:55:04 UTC  \n",
      "3  Active Subscriber  2013-02-19 20:47:38 UTC  \n",
      "4      Undeliverable  2010-01-28 09:02:39 UTC  \n",
      "5  Active Subscriber  2019-05-22 14:46:17 UTC  \n",
      "6      Undeliverable  2013-02-19 20:51:24 UTC  \n",
      "7  Active Subscriber  2013-02-19 20:50:37 UTC  \n",
      "8      Undeliverable  2018-12-14 19:37:29 UTC  \n",
      "9  Active Subscriber  2018-11-03 14:17:23 UTC  \n",
      "\n",
      "[10 rows x 32 columns]\n"
     ]
    }
   ],
   "source": [
    "data = xmltodict.parse(r.content, attr_prefix='')\n",
    "\n",
    "def flatten_dict(dd, separator='_', prefix=''):\n",
    "    return { prefix + separator + k if prefix else k : v\n",
    "             for kk, vv in dd.items()\n",
    "             for k, v in flatten_dict(vv, separator, kk).items()\n",
    "             } if isinstance(dd, dict) else { prefix : dd }\n",
    "\n",
    "flat = [flatten_dict(x) for x in data['response']['profiles']['profile']]\n",
    "df = pd.DataFrame(flat)\n",
    "print(df)"
   ]
  }
 ],
 "metadata": {
  "kernelspec": {
   "display_name": "Python 3",
   "language": "python",
   "name": "python3"
  },
  "language_info": {
   "codemirror_mode": {
    "name": "ipython",
    "version": 3
   },
   "file_extension": ".py",
   "mimetype": "text/x-python",
   "name": "python",
   "nbconvert_exporter": "python",
   "pygments_lexer": "ipython3",
   "version": "3.7.1"
  }
 },
 "nbformat": 4,
 "nbformat_minor": 2
}